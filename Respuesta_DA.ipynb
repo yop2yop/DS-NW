{
  "nbformat": 4,
  "nbformat_minor": 0,
  "metadata": {
    "colab": {
      "provenance": []
    },
    "kernelspec": {
      "name": "python3",
      "display_name": "Python 3"
    },
    "language_info": {
      "name": "python"
    },
    "accelerator": "GPU",
    "gpuClass": "standard"
  },
  "cells": [
    {
      "cell_type": "markdown",
      "source": [
        "## Imports y carga de datos\n",
        "Se analiza el problema, se importan los paquetes necesarios para realizar análisis preliminares.\n"
      ],
      "metadata": {
        "id": "K8WUFniyK6eA"
      }
    },
    {
      "cell_type": "code",
      "execution_count": 64,
      "metadata": {
        "id": "CB5rF1P-KKvg",
        "colab": {
          "base_uri": "https://localhost:8080/"
        },
        "outputId": "e8065c76-a2db-48d5-da97-b93fa24619a2"
      },
      "outputs": [
        {
          "output_type": "stream",
          "name": "stderr",
          "text": [
            "/usr/local/lib/python3.8/dist-packages/IPython/core/interactiveshell.py:3326: DtypeWarning: Columns (1,6) have mixed types.Specify dtype option on import or set low_memory=False.\n",
            "  exec(code_obj, self.user_global_ns, self.user_ns)\n"
          ]
        }
      ],
      "source": [
        "import torch\n",
        "import pandas as pd\n",
        "import numpy as np\n",
        "import seaborn as sns\n",
        "import matplotlib.pyplot as plt\n",
        "import datetime\n",
        "\n",
        "# Machine learning\n",
        "from sklearn.linear_model import  Ridge, Lasso, LinearRegression, SGDRegressor, LogisticRegression\n",
        "from sklearn.neighbors import KNeighborsRegressor\n",
        "from sklearn.ensemble import GradientBoostingRegressor,RandomForestRegressor,  AdaBoostRegressor, BaggingRegressor\n",
        "from xgboost import XGBRegressor, XGBRFRegressor\n",
        "from lightgbm import LGBMRegressor\n",
        "from sklearn.metrics import r2_score, accuracy_score, confusion_matrix, f1_score, accuracy_score, precision_score, recall_score, ConfusionMatrixDisplay\n",
        "\n",
        "\n",
        "\n",
        "file_name = \"dataset_SCL.csv\"\n",
        "\n",
        "dataset = pd.read_csv(file_name)"
      ]
    },
    {
      "cell_type": "markdown",
      "source": [
        "# Análisis de datos.\n",
        "**¿Qué se nos pide?**\n",
        "Modelo predictivo para ver si un vuelo se atrasará o no.\n"
      ],
      "metadata": {
        "id": "tgLIoX1_1X3J"
      }
    },
    {
      "cell_type": "markdown",
      "source": [
        "# Análisis del problema.\n",
        "\n",
        "Para predecir la probabilidad de atraso de un vuelo, lo primero que se necesita es definir claramente qué se entiende por atraso en este contexto. Una vez que se tenga una definición clara, se pueden seleccionar las variables del dataset que se consideran relevantes para predecir el atraso de un vuelo. Algunas variables que podrían ser relevantes podrían ser la hora programada del vuelo, la hora de operación del vuelo, el día de la semana, el mes y el año de operación, el tipo de vuelo, el nombre de la aerolínea que opera el vuelo, y el nombre de las ciudades de origen y destino.\n",
        "\n",
        "Una vez seleccionadas las variables relevantes, se pueden utilizar técnicas de machine learning para entrenar un modelo que pueda predecir la probabilidad de atraso de un vuelo en función de estas variables. Por ejemplo, se podría utilizar un modelo de regresión logística para predecir la probabilidad de atraso en términos de una combinación lineal de las variables seleccionadas. Una vez entrenado el modelo, se podría evaluar su desempeño en términos de su precisión y su capacidad de generalización a nuevos datos.\n",
        "\n",
        "Es importante tener en cuenta que la precisión del modelo dependerá en gran medida de la calidad y cantidad de los datos utilizados para entrenarlo. Por lo tanto, es fundamental asegurarse de que el dataset utilizado sea lo suficientemente completo y preciso para entrenar un modelo preciso y generalizable."
      ],
      "metadata": {
        "id": "3kcOqwe7aL8e"
      }
    },
    {
      "cell_type": "markdown",
      "source": [
        "Para predecir la probabilidad de atraso de los vuelos, se podrían utilizar técnicas de machine learning como regresión logística o random forest. Primero se debería preprocesar los datos, eliminando columnas irrelevantes y tratando los valores nulos. Luego se debería crear una variable que indique si un vuelo tuvo atraso o no, basado en la diferencia entre la fecha y hora programada y la fecha y hora de operación. A continuación, se podrían utilizar las variables restantes como variables predictoras para entrenar el modelo de machine learning y así poder predecir la probabilidad de atraso de un vuelo."
      ],
      "metadata": {
        "id": "wibAvxaZedxj"
      }
    },
    {
      "cell_type": "code",
      "source": [
        "dataset.info()"
      ],
      "metadata": {
        "colab": {
          "base_uri": "https://localhost:8080/"
        },
        "id": "v9UGyItuj7y_",
        "outputId": "b72876ce-1236-4fdf-c565-49d63bb24193"
      },
      "execution_count": 4,
      "outputs": [
        {
          "output_type": "stream",
          "name": "stdout",
          "text": [
            "<class 'pandas.core.frame.DataFrame'>\n",
            "RangeIndex: 68206 entries, 0 to 68205\n",
            "Data columns (total 18 columns):\n",
            " #   Column     Non-Null Count  Dtype \n",
            "---  ------     --------------  ----- \n",
            " 0   Fecha-I    68206 non-null  object\n",
            " 1   Vlo-I      68206 non-null  object\n",
            " 2   Ori-I      68206 non-null  object\n",
            " 3   Des-I      68206 non-null  object\n",
            " 4   Emp-I      68206 non-null  object\n",
            " 5   Fecha-O    68206 non-null  object\n",
            " 6   Vlo-O      68205 non-null  object\n",
            " 7   Ori-O      68206 non-null  object\n",
            " 8   Des-O      68206 non-null  object\n",
            " 9   Emp-O      68206 non-null  object\n",
            " 10  DIA        68206 non-null  int64 \n",
            " 11  MES        68206 non-null  int64 \n",
            " 12  AÑO        68206 non-null  int64 \n",
            " 13  DIANOM     68206 non-null  object\n",
            " 14  TIPOVUELO  68206 non-null  object\n",
            " 15  OPERA      68206 non-null  object\n",
            " 16  SIGLAORI   68206 non-null  object\n",
            " 17  SIGLADES   68206 non-null  object\n",
            "dtypes: int64(3), object(15)\n",
            "memory usage: 9.4+ MB\n"
          ]
        }
      ]
    },
    {
      "cell_type": "code",
      "source": [
        "# Se transforman los datos de Fecha.\n",
        "dataset['Fecha-I'] = pd.to_datetime(dataset['Fecha-I'])\n",
        "dataset['Fecha-O'] = pd.to_datetime(dataset['Fecha-O'])\n",
        "dataset.head()"
      ],
      "metadata": {
        "colab": {
          "base_uri": "https://localhost:8080/",
          "height": 206
        },
        "id": "uQxWzIDmmTAB",
        "outputId": "01443830-2e6b-4f4e-a9f4-bd764794b176"
      },
      "execution_count": 5,
      "outputs": [
        {
          "output_type": "execute_result",
          "data": {
            "text/plain": [
              "              Fecha-I Vlo-I Ori-I Des-I Emp-I             Fecha-O Vlo-O Ori-O  \\\n",
              "0 2017-01-01 23:30:00   226  SCEL  KMIA   AAL 2017-01-01 23:33:00   226  SCEL   \n",
              "1 2017-01-02 23:30:00   226  SCEL  KMIA   AAL 2017-01-02 23:39:00   226  SCEL   \n",
              "2 2017-01-03 23:30:00   226  SCEL  KMIA   AAL 2017-01-03 23:39:00   226  SCEL   \n",
              "3 2017-01-04 23:30:00   226  SCEL  KMIA   AAL 2017-01-04 23:33:00   226  SCEL   \n",
              "4 2017-01-05 23:30:00   226  SCEL  KMIA   AAL 2017-01-05 23:28:00   226  SCEL   \n",
              "\n",
              "  Des-O Emp-O  DIA  MES   AÑO     DIANOM TIPOVUELO              OPERA  \\\n",
              "0  KMIA   AAL    1    1  2017    Domingo         I  American Airlines   \n",
              "1  KMIA   AAL    2    1  2017      Lunes         I  American Airlines   \n",
              "2  KMIA   AAL    3    1  2017     Martes         I  American Airlines   \n",
              "3  KMIA   AAL    4    1  2017  Miercoles         I  American Airlines   \n",
              "4  KMIA   AAL    5    1  2017     Jueves         I  American Airlines   \n",
              "\n",
              "   SIGLAORI SIGLADES  \n",
              "0  Santiago    Miami  \n",
              "1  Santiago    Miami  \n",
              "2  Santiago    Miami  \n",
              "3  Santiago    Miami  \n",
              "4  Santiago    Miami  "
            ],
            "text/html": [
              "\n",
              "  <div id=\"df-0cc83dc7-1668-4929-9c6e-a448082b0ef7\">\n",
              "    <div class=\"colab-df-container\">\n",
              "      <div>\n",
              "<style scoped>\n",
              "    .dataframe tbody tr th:only-of-type {\n",
              "        vertical-align: middle;\n",
              "    }\n",
              "\n",
              "    .dataframe tbody tr th {\n",
              "        vertical-align: top;\n",
              "    }\n",
              "\n",
              "    .dataframe thead th {\n",
              "        text-align: right;\n",
              "    }\n",
              "</style>\n",
              "<table border=\"1\" class=\"dataframe\">\n",
              "  <thead>\n",
              "    <tr style=\"text-align: right;\">\n",
              "      <th></th>\n",
              "      <th>Fecha-I</th>\n",
              "      <th>Vlo-I</th>\n",
              "      <th>Ori-I</th>\n",
              "      <th>Des-I</th>\n",
              "      <th>Emp-I</th>\n",
              "      <th>Fecha-O</th>\n",
              "      <th>Vlo-O</th>\n",
              "      <th>Ori-O</th>\n",
              "      <th>Des-O</th>\n",
              "      <th>Emp-O</th>\n",
              "      <th>DIA</th>\n",
              "      <th>MES</th>\n",
              "      <th>AÑO</th>\n",
              "      <th>DIANOM</th>\n",
              "      <th>TIPOVUELO</th>\n",
              "      <th>OPERA</th>\n",
              "      <th>SIGLAORI</th>\n",
              "      <th>SIGLADES</th>\n",
              "    </tr>\n",
              "  </thead>\n",
              "  <tbody>\n",
              "    <tr>\n",
              "      <th>0</th>\n",
              "      <td>2017-01-01 23:30:00</td>\n",
              "      <td>226</td>\n",
              "      <td>SCEL</td>\n",
              "      <td>KMIA</td>\n",
              "      <td>AAL</td>\n",
              "      <td>2017-01-01 23:33:00</td>\n",
              "      <td>226</td>\n",
              "      <td>SCEL</td>\n",
              "      <td>KMIA</td>\n",
              "      <td>AAL</td>\n",
              "      <td>1</td>\n",
              "      <td>1</td>\n",
              "      <td>2017</td>\n",
              "      <td>Domingo</td>\n",
              "      <td>I</td>\n",
              "      <td>American Airlines</td>\n",
              "      <td>Santiago</td>\n",
              "      <td>Miami</td>\n",
              "    </tr>\n",
              "    <tr>\n",
              "      <th>1</th>\n",
              "      <td>2017-01-02 23:30:00</td>\n",
              "      <td>226</td>\n",
              "      <td>SCEL</td>\n",
              "      <td>KMIA</td>\n",
              "      <td>AAL</td>\n",
              "      <td>2017-01-02 23:39:00</td>\n",
              "      <td>226</td>\n",
              "      <td>SCEL</td>\n",
              "      <td>KMIA</td>\n",
              "      <td>AAL</td>\n",
              "      <td>2</td>\n",
              "      <td>1</td>\n",
              "      <td>2017</td>\n",
              "      <td>Lunes</td>\n",
              "      <td>I</td>\n",
              "      <td>American Airlines</td>\n",
              "      <td>Santiago</td>\n",
              "      <td>Miami</td>\n",
              "    </tr>\n",
              "    <tr>\n",
              "      <th>2</th>\n",
              "      <td>2017-01-03 23:30:00</td>\n",
              "      <td>226</td>\n",
              "      <td>SCEL</td>\n",
              "      <td>KMIA</td>\n",
              "      <td>AAL</td>\n",
              "      <td>2017-01-03 23:39:00</td>\n",
              "      <td>226</td>\n",
              "      <td>SCEL</td>\n",
              "      <td>KMIA</td>\n",
              "      <td>AAL</td>\n",
              "      <td>3</td>\n",
              "      <td>1</td>\n",
              "      <td>2017</td>\n",
              "      <td>Martes</td>\n",
              "      <td>I</td>\n",
              "      <td>American Airlines</td>\n",
              "      <td>Santiago</td>\n",
              "      <td>Miami</td>\n",
              "    </tr>\n",
              "    <tr>\n",
              "      <th>3</th>\n",
              "      <td>2017-01-04 23:30:00</td>\n",
              "      <td>226</td>\n",
              "      <td>SCEL</td>\n",
              "      <td>KMIA</td>\n",
              "      <td>AAL</td>\n",
              "      <td>2017-01-04 23:33:00</td>\n",
              "      <td>226</td>\n",
              "      <td>SCEL</td>\n",
              "      <td>KMIA</td>\n",
              "      <td>AAL</td>\n",
              "      <td>4</td>\n",
              "      <td>1</td>\n",
              "      <td>2017</td>\n",
              "      <td>Miercoles</td>\n",
              "      <td>I</td>\n",
              "      <td>American Airlines</td>\n",
              "      <td>Santiago</td>\n",
              "      <td>Miami</td>\n",
              "    </tr>\n",
              "    <tr>\n",
              "      <th>4</th>\n",
              "      <td>2017-01-05 23:30:00</td>\n",
              "      <td>226</td>\n",
              "      <td>SCEL</td>\n",
              "      <td>KMIA</td>\n",
              "      <td>AAL</td>\n",
              "      <td>2017-01-05 23:28:00</td>\n",
              "      <td>226</td>\n",
              "      <td>SCEL</td>\n",
              "      <td>KMIA</td>\n",
              "      <td>AAL</td>\n",
              "      <td>5</td>\n",
              "      <td>1</td>\n",
              "      <td>2017</td>\n",
              "      <td>Jueves</td>\n",
              "      <td>I</td>\n",
              "      <td>American Airlines</td>\n",
              "      <td>Santiago</td>\n",
              "      <td>Miami</td>\n",
              "    </tr>\n",
              "  </tbody>\n",
              "</table>\n",
              "</div>\n",
              "      <button class=\"colab-df-convert\" onclick=\"convertToInteractive('df-0cc83dc7-1668-4929-9c6e-a448082b0ef7')\"\n",
              "              title=\"Convert this dataframe to an interactive table.\"\n",
              "              style=\"display:none;\">\n",
              "        \n",
              "  <svg xmlns=\"http://www.w3.org/2000/svg\" height=\"24px\"viewBox=\"0 0 24 24\"\n",
              "       width=\"24px\">\n",
              "    <path d=\"M0 0h24v24H0V0z\" fill=\"none\"/>\n",
              "    <path d=\"M18.56 5.44l.94 2.06.94-2.06 2.06-.94-2.06-.94-.94-2.06-.94 2.06-2.06.94zm-11 1L8.5 8.5l.94-2.06 2.06-.94-2.06-.94L8.5 2.5l-.94 2.06-2.06.94zm10 10l.94 2.06.94-2.06 2.06-.94-2.06-.94-.94-2.06-.94 2.06-2.06.94z\"/><path d=\"M17.41 7.96l-1.37-1.37c-.4-.4-.92-.59-1.43-.59-.52 0-1.04.2-1.43.59L10.3 9.45l-7.72 7.72c-.78.78-.78 2.05 0 2.83L4 21.41c.39.39.9.59 1.41.59.51 0 1.02-.2 1.41-.59l7.78-7.78 2.81-2.81c.8-.78.8-2.07 0-2.86zM5.41 20L4 18.59l7.72-7.72 1.47 1.35L5.41 20z\"/>\n",
              "  </svg>\n",
              "      </button>\n",
              "      \n",
              "  <style>\n",
              "    .colab-df-container {\n",
              "      display:flex;\n",
              "      flex-wrap:wrap;\n",
              "      gap: 12px;\n",
              "    }\n",
              "\n",
              "    .colab-df-convert {\n",
              "      background-color: #E8F0FE;\n",
              "      border: none;\n",
              "      border-radius: 50%;\n",
              "      cursor: pointer;\n",
              "      display: none;\n",
              "      fill: #1967D2;\n",
              "      height: 32px;\n",
              "      padding: 0 0 0 0;\n",
              "      width: 32px;\n",
              "    }\n",
              "\n",
              "    .colab-df-convert:hover {\n",
              "      background-color: #E2EBFA;\n",
              "      box-shadow: 0px 1px 2px rgba(60, 64, 67, 0.3), 0px 1px 3px 1px rgba(60, 64, 67, 0.15);\n",
              "      fill: #174EA6;\n",
              "    }\n",
              "\n",
              "    [theme=dark] .colab-df-convert {\n",
              "      background-color: #3B4455;\n",
              "      fill: #D2E3FC;\n",
              "    }\n",
              "\n",
              "    [theme=dark] .colab-df-convert:hover {\n",
              "      background-color: #434B5C;\n",
              "      box-shadow: 0px 1px 3px 1px rgba(0, 0, 0, 0.15);\n",
              "      filter: drop-shadow(0px 1px 2px rgba(0, 0, 0, 0.3));\n",
              "      fill: #FFFFFF;\n",
              "    }\n",
              "  </style>\n",
              "\n",
              "      <script>\n",
              "        const buttonEl =\n",
              "          document.querySelector('#df-0cc83dc7-1668-4929-9c6e-a448082b0ef7 button.colab-df-convert');\n",
              "        buttonEl.style.display =\n",
              "          google.colab.kernel.accessAllowed ? 'block' : 'none';\n",
              "\n",
              "        async function convertToInteractive(key) {\n",
              "          const element = document.querySelector('#df-0cc83dc7-1668-4929-9c6e-a448082b0ef7');\n",
              "          const dataTable =\n",
              "            await google.colab.kernel.invokeFunction('convertToInteractive',\n",
              "                                                     [key], {});\n",
              "          if (!dataTable) return;\n",
              "\n",
              "          const docLinkHtml = 'Like what you see? Visit the ' +\n",
              "            '<a target=\"_blank\" href=https://colab.research.google.com/notebooks/data_table.ipynb>data table notebook</a>'\n",
              "            + ' to learn more about interactive tables.';\n",
              "          element.innerHTML = '';\n",
              "          dataTable['output_type'] = 'display_data';\n",
              "          await google.colab.output.renderOutput(dataTable, element);\n",
              "          const docLink = document.createElement('div');\n",
              "          docLink.innerHTML = docLinkHtml;\n",
              "          element.appendChild(docLink);\n",
              "        }\n",
              "      </script>\n",
              "    </div>\n",
              "  </div>\n",
              "  "
            ]
          },
          "metadata": {},
          "execution_count": 5
        }
      ]
    },
    {
      "cell_type": "code",
      "source": [
        "print(\"Se puede saber que de los {} vuelos que partieron en su lugar de origen de manera planificada, sólo {} vuelos no lograron llegar a su destino planificado.\".format(sum(dataset[\"Ori-I\"] == dataset[\"Ori-O\"] ),  sum(dataset[\"Ori-I\"] == dataset[\"Ori-O\"] ) - sum(dataset[\"Des-I\"] == dataset[\"Des-O\"] ) ) ) "
      ],
      "metadata": {
        "colab": {
          "base_uri": "https://localhost:8080/"
        },
        "id": "o6SwaS0Ool6w",
        "outputId": "4e91b380-eea4-4ec3-9791-2693492fb82c"
      },
      "execution_count": 6,
      "outputs": [
        {
          "output_type": "stream",
          "name": "stdout",
          "text": [
            "Se puede saber que de los 68206 vuelos que partieron en su lugar de origen de manera planificada, sólo 28 vuelos no lograron llegar a su destino planificado.\n"
          ]
        }
      ]
    },
    {
      "cell_type": "code",
      "source": [
        "dataset.groupby([\"DIANOM\"]).count()[\"DIA\"].plot.bar()"
      ],
      "metadata": {
        "colab": {
          "base_uri": "https://localhost:8080/",
          "height": 334
        },
        "id": "UKLLBUdNo_DL",
        "outputId": "f24747aa-cf10-4519-b35c-771ddc0f0ce5"
      },
      "execution_count": 7,
      "outputs": [
        {
          "output_type": "execute_result",
          "data": {
            "text/plain": [
              "<matplotlib.axes._subplots.AxesSubplot at 0x7fda4bfd4220>"
            ]
          },
          "metadata": {},
          "execution_count": 7
        },
        {
          "output_type": "display_data",
          "data": {
            "text/plain": [
              "<Figure size 432x288 with 1 Axes>"
            ],
            "image/png": "[encoded data removed]"
          },
          "metadata": {
            "needs_background": "light"
          }
        }
      ]
    },
    {
      "cell_type": "markdown",
      "source": [
        "El rango de vuelos por día estuvieron entre 8000 y 11000. Siendo el día viernes el día donde más vuelos se producen y el día sábado donde menores vuelo se producen."
      ],
      "metadata": {
        "id": "w1MBALGVp78z"
      }
    },
    {
      "cell_type": "code",
      "source": [
        "dataset.groupby([\"MES\"]).count()[\"DIA\"].plot.bar()"
      ],
      "metadata": {
        "colab": {
          "base_uri": "https://localhost:8080/",
          "height": 299
        },
        "id": "TRqrB37wqQjn",
        "outputId": "309e78f7-49a6-46e9-ebcf-ad31381f6199"
      },
      "execution_count": 8,
      "outputs": [
        {
          "output_type": "execute_result",
          "data": {
            "text/plain": [
              "<matplotlib.axes._subplots.AxesSubplot at 0x7fda4bd86520>"
            ]
          },
          "metadata": {},
          "execution_count": 8
        },
        {
          "output_type": "display_data",
          "data": {
            "text/plain": [
              "<Figure size 432x288 with 1 Axes>"
            ],
            "image/png": "[encoded data removed]"
          },
          "metadata": {
            "needs_background": "light"
          }
        }
      ]
    },
    {
      "cell_type": "markdown",
      "source": [
        "Si lo desglosamos por mes del año, los meses de Abril y Junio registran los menores vuelos. Mientras Diciembre, Enero y Noviembre son los meses donde se realizan más vuelos."
      ],
      "metadata": {
        "id": "hmytS56jqbyh"
      }
    },
    {
      "cell_type": "markdown",
      "source": [
        "Se tiene la información de de cada columna, nos podemos dar cuenta que sólo se tiene un dato Nulo en \"Vlo-O\" que se encuentra en el indice 6068"
      ],
      "metadata": {
        "id": "jzhFQfpHkE8f"
      }
    },
    {
      "cell_type": "code",
      "source": [
        "dataset.iloc[6068]"
      ],
      "metadata": {
        "colab": {
          "base_uri": "https://localhost:8080/"
        },
        "id": "kPjl5iTMhXHp",
        "outputId": "a5c02d87-c6f1-472b-851b-0e54d22ce260"
      },
      "execution_count": 9,
      "outputs": [
        {
          "output_type": "execute_result",
          "data": {
            "text/plain": [
              "Fecha-I       2017-01-19 11:00:00\n",
              "Vlo-I                         200\n",
              "Ori-I                        SCEL\n",
              "Des-I                        SPJC\n",
              "Emp-I                         LAW\n",
              "Fecha-O       2017-01-19 11:03:00\n",
              "Vlo-O                         NaN\n",
              "Ori-O                        SCEL\n",
              "Des-O                        SPJC\n",
              "Emp-O                         56R\n",
              "DIA                            19\n",
              "MES                             1\n",
              "AÑO                          2017\n",
              "DIANOM                     Jueves\n",
              "TIPOVUELO                       I\n",
              "OPERA        Latin American Wings\n",
              "SIGLAORI                 Santiago\n",
              "SIGLADES                     Lima\n",
              "Name: 6068, dtype: object"
            ]
          },
          "metadata": {},
          "execution_count": 9
        }
      ]
    },
    {
      "cell_type": "code",
      "source": [
        "# Se borra fila con valor nulo \n",
        "dataset.dropna(inplace = True )"
      ],
      "metadata": {
        "id": "ryYjVX5uhZB_"
      },
      "execution_count": 10,
      "outputs": []
    },
    {
      "cell_type": "markdown",
      "source": [
        "# Agregando nuevas columnas.\n",
        "\n",
        "Se pide: \n",
        " - temporada_alta : 1 si Fecha-I está entre 15-Dic y 3-Mar, o 15-Jul y 31-Jul, o 11-Sep y 30-Sep, 0 si no.\n",
        " - dif_min: diferencia en minutos entre Fecha-O y Fecha-I.\n",
        " - atraso_15: 1 si dif_min > 15, 0 si no\n",
        " - periodo_dia: mañana (entre 5:00 y 11:59), tarde (entre 12:00 y 18:59) y noche (entre 19:00 y 4:59), en\n",
        "base a Fecha-I\n",
        "\n",
        "Si bien los vuelos son a partir del 2017 y terminan en 2018, puedo realizar una función que trabaje sólo en esos periodos, pero como encuentro que generalizar es una buena practica en caso que se quiera aumentar el set de dato para otros años. Se va crear una función que sólo compare meses y días, omitiendo el año del datetime.\n"
      ],
      "metadata": {
        "id": "htqTS5Rkr74Z"
      }
    },
    {
      "cell_type": "markdown",
      "source": [
        "### Temporada alta"
      ],
      "metadata": {
        "id": "Te9HUxiAxxHX"
      }
    },
    {
      "cell_type": "code",
      "source": [
        "def temporada_alta(df_fecha):\n",
        "    df_fecha = df_fecha.strftime(\"%m%d\")\n",
        "    fechas = [(\"0304\",\"0715\"),(\"0801\", \"0911\"),(\"1001\",\"1215\")]\n",
        "    for fecha in fechas:\n",
        "      if  fecha[0]  <= df_fecha <= fecha[1]:\n",
        "        return 0  #Si cumple la condicion de temporada Baja es 0\n",
        "    return 1 #Si no es 1"
      ],
      "metadata": {
        "id": "qTTdTHRDr6EJ"
      },
      "execution_count": 11,
      "outputs": []
    },
    {
      "cell_type": "code",
      "source": [
        "dataset['temporada_alta'] = dataset['Fecha-I'].map(lambda x: temporada_alta(x))\n"
      ],
      "metadata": {
        "id": "Yu8BTwBWw7u9"
      },
      "execution_count": 12,
      "outputs": []
    },
    {
      "cell_type": "markdown",
      "source": [
        "### Diferencia en minutos\n",
        "Se da a entender que tambien pueden haber vuelos que se adelanten a la hora de despeque es decir que que partan minutos antes. Por lo que daría una diferencia negativa.\n"
      ],
      "metadata": {
        "id": "Sh3dxhIaxzO2"
      }
    },
    {
      "cell_type": "code",
      "source": [
        "dataset['dif_min'] = (dataset[\"Fecha-O\"] - dataset[\"Fecha-I\"]).dt.total_seconds()/60"
      ],
      "metadata": {
        "id": "c7Xn6o6Gx9m8"
      },
      "execution_count": 13,
      "outputs": []
    },
    {
      "cell_type": "markdown",
      "source": [
        "### Si diferencia es mayor a 15 minutos o no\n"
      ],
      "metadata": {
        "id": "sNOmQUQDyiX-"
      }
    },
    {
      "cell_type": "code",
      "source": [
        "dataset[\"atraso_15\"] = np.where(dataset['dif_min'] < 15,0,1)"
      ],
      "metadata": {
        "id": "UcdRHspHynPn"
      },
      "execution_count": 14,
      "outputs": []
    },
    {
      "cell_type": "markdown",
      "source": [
        "### Periodo de vuelos\n",
        "Según día mañana o noche.\n"
      ],
      "metadata": {
        "id": "nV4NgMyFz_Y7"
      }
    },
    {
      "cell_type": "code",
      "source": [
        "def periodo_dia(df_fecha):\n",
        "    if datetime.time(5) <= df_fecha.time() < datetime.time(12):\n",
        "        return 'mañana'\n",
        "    elif datetime.time(12) <= df_fecha.time() < datetime.time(19):\n",
        "        return 'tarde'\n",
        "    else:\n",
        "        return 'noche'\n"
      ],
      "metadata": {
        "id": "jhA_qxGBy1p4"
      },
      "execution_count": 15,
      "outputs": []
    },
    {
      "cell_type": "code",
      "source": [
        "dataset['periodo_dia'] = dataset['Fecha-I'].map(lambda x: periodo_dia(x))"
      ],
      "metadata": {
        "id": "8HCISDOv0n0Q"
      },
      "execution_count": 16,
      "outputs": []
    },
    {
      "cell_type": "markdown",
      "source": [
        "# Analisis considerando cuando un vuelo se atrasa.\n"
      ],
      "metadata": {
        "id": "tultB2kp1kHM"
      }
    },
    {
      "cell_type": "markdown",
      "source": [
        "Por Mes del año se puede, decir que se generan más atrasos en Julio, Siendo Julio el quinto més con más vuelos en el año."
      ],
      "metadata": {
        "id": "k5hZWXUr2tWo"
      }
    },
    {
      "cell_type": "code",
      "source": [
        "dataset.groupby([\"MES\",\"atraso_15\"]).count()[\"DIA\"].plot.bar()\n",
        "# (MES, Atraso): Si dice (1,0) es Mes Enero, Sin Atrasos"
      ],
      "metadata": {
        "colab": {
          "base_uri": "https://localhost:8080/",
          "height": 320
        },
        "id": "3n2w2-L21qmy",
        "outputId": "523e5081-1a73-466f-f18f-97dd91f38663"
      },
      "execution_count": 17,
      "outputs": [
        {
          "output_type": "execute_result",
          "data": {
            "text/plain": [
              "<matplotlib.axes._subplots.AxesSubplot at 0x7fda4c5a3df0>"
            ]
          },
          "metadata": {},
          "execution_count": 17
        },
        {
          "output_type": "display_data",
          "data": {
            "text/plain": [
              "<Figure size 432x288 with 1 Axes>"
            ],
            "image/png": "[encoded data removed]"
          },
          "metadata": {
            "needs_background": "light"
          }
        }
      ]
    },
    {
      "cell_type": "markdown",
      "source": [
        "\n"
      ],
      "metadata": {
        "id": "P2-hm0eX3FLQ"
      }
    },
    {
      "cell_type": "code",
      "source": [
        "lugar = {}\n",
        "for j in [i for i in dataset.groupby([\"Des-I\",\"atraso_15\"]).count()[\"DIA\"].index]:\n",
        "  try:\n",
        "    lugar[j[0]] = dataset.groupby([\"Des-I\",\"atraso_15\"]).count()[\"DIA\"][(j[0],1)] /(dataset.groupby([\"Des-I\",\"atraso_15\"]).count()[\"DIA\"][(j[0],0)] + dataset.groupby([\"Des-I\",\"atraso_15\"]).count()[\"DIA\"][(j[0],1)] )\n",
        "  except: \n",
        "    lugar[j[0]] = \"null\"\n",
        "# (MES, Atraso): Si dice (1,0) es Mes Enero, Sin Atrasos]"
      ],
      "metadata": {
        "id": "uWDiXamP3Fb9"
      },
      "execution_count": 18,
      "outputs": []
    },
    {
      "cell_type": "code",
      "source": [
        "lugar"
      ],
      "metadata": {
        "colab": {
          "base_uri": "https://localhost:8080/"
        },
        "id": "C95JqkZK440d",
        "outputId": "43fdcce5-7524-4e6e-9948-4c7a185df8cf"
      },
      "execution_count": 19,
      "outputs": [
        {
          "output_type": "execute_result",
          "data": {
            "text/plain": [
              "{'CYYZ': 0.3250883392226148,\n",
              " 'EGLL': 0.15121951219512195,\n",
              " 'EGYP': 'null',\n",
              " 'KATL': 0.061452513966480445,\n",
              " 'KDFW': 0.0700280112044818,\n",
              " 'KIAH': 0.05373134328358209,\n",
              " 'KJFK': 0.2402088772845953,\n",
              " 'KLAX': 0.27741935483870966,\n",
              " 'KMCO': 0.2647058823529412,\n",
              " 'KMIA': 0.19901477832512315,\n",
              " 'LEMD': 0.21140939597315436,\n",
              " 'LFPG': 0.09192200557103064,\n",
              " 'LIRF': 0.11969111969111969,\n",
              " 'MDPC': 0.3333333333333333,\n",
              " 'MMMX': 0.10428571428571429,\n",
              " 'MMUN': 0.20634920634920634,\n",
              " 'MPTO': 0.06756756756756757,\n",
              " 'NZAA': 0.38227146814404434,\n",
              " 'SAAR': 0.4338235294117647,\n",
              " 'SABE': 0.28926955397543636,\n",
              " 'SACO': 0.3313782991202346,\n",
              " 'SAEZ': 0.2617283950617284,\n",
              " 'SAME': 0.2886153846153846,\n",
              " 'SANT': 0.2631578947368421,\n",
              " 'SANU': 0.22857142857142856,\n",
              " 'SARI': 'null',\n",
              " 'SAWH': 0.6666666666666666,\n",
              " 'SAZN': 0.10810810810810811,\n",
              " 'SAZS': 0.5,\n",
              " 'SBCT': 'null',\n",
              " 'SBFI': 'null',\n",
              " 'SBFL': 0.2037037037037037,\n",
              " 'SBGL': 0.3082287308228731,\n",
              " 'SBGR': 0.2649859943977591,\n",
              " 'SCAR': 0.1477832512315271,\n",
              " 'SCAT': 0.14831460674157304,\n",
              " 'SCBA': 0.16251482799525505,\n",
              " 'SCCF': 0.13216715257531583,\n",
              " 'SCCI': 0.17339667458432304,\n",
              " 'SCDA': 0.18574859887910328,\n",
              " 'SCFA': 0.15724900639364092,\n",
              " 'SCIE': 0.167459324155194,\n",
              " 'SCIP': 0.21017699115044247,\n",
              " 'SCJO': 0.20077220077220076,\n",
              " 'SCNT': 0.08860759493670886,\n",
              " 'SCPQ': 0.08085106382978724,\n",
              " 'SCQP': 0.16840882694541232,\n",
              " 'SCSE': 0.17593360995850624,\n",
              " 'SCTE': 0.18338306173972918,\n",
              " 'SCVD': 0.17131474103585656,\n",
              " 'SEGU': 0.2127659574468085,\n",
              " 'SEQM': 'null',\n",
              " 'SEQU': 'null',\n",
              " 'SGAS': 0.29310344827586204,\n",
              " 'SKBO': 0.2724438902743142,\n",
              " 'SLCB': 'null',\n",
              " 'SLLP': 0.17703349282296652,\n",
              " 'SLVR': 0.275,\n",
              " 'SPJC': 0.2476750806604669,\n",
              " 'SPSO': 'null',\n",
              " 'SULS': 0.3333333333333333,\n",
              " 'SUMU': 0.23170731707317074,\n",
              " 'YMML': 0.6052631578947368,\n",
              " 'YSSY': 0.6}"
            ]
          },
          "metadata": {},
          "execution_count": 19
        }
      ]
    },
    {
      "cell_type": "markdown",
      "source": [
        "Más del 66% de los vuelos con destino a SAWH Son atrasos. Los valores Null se pueden dar porque no existen ningun vuelo con atraso o solo existen vuelos con atrasos como en EGYP que sólo tiene un vuelo registrado y estaba atrasado."
      ],
      "metadata": {
        "id": "0j8TCf-s5EvI"
      }
    },
    {
      "cell_type": "code",
      "source": [
        "dataset.groupby([\"OPERA\",\"atraso_15\"]).count()[\"DIA\"].plot.bar()"
      ],
      "metadata": {
        "colab": {
          "base_uri": "https://localhost:8080/",
          "height": 428
        },
        "id": "6lmTnFq44Qhw",
        "outputId": "9d4b8bde-0294-451d-f590-100fc19f68d3"
      },
      "execution_count": 20,
      "outputs": [
        {
          "output_type": "execute_result",
          "data": {
            "text/plain": [
              "<matplotlib.axes._subplots.AxesSubplot at 0x7fda4c541a30>"
            ]
          },
          "metadata": {},
          "execution_count": 20
        },
        {
          "output_type": "display_data",
          "data": {
            "text/plain": [
              "<Figure size 432x288 with 1 Axes>"
            ],
            "image/png": "[encoded data removed]"
          },
          "metadata": {
            "needs_background": "light"
          }
        }
      ]
    },
    {
      "cell_type": "code",
      "source": [
        "aerolineas = {}\n",
        "for j in [i for i in dataset.groupby([\"OPERA\",\"atraso_15\"]).count()[\"DIA\"].index]:\n",
        "  try:\n",
        "    aerolineas[j[0]] = dataset.groupby([\"OPERA\",\"atraso_15\"]).count()[\"DIA\"][(j[0],1)] /(dataset.groupby([\"OPERA\",\"atraso_15\"]).count()[\"DIA\"][(j[0],0)] + dataset.groupby([\"OPERA\",\"atraso_15\"]).count()[\"DIA\"][(j[0],1)] )\n",
        "  except: \n",
        "    aerolineas[j[0]] = \"null\"\n",
        "# (MES, Atraso): Si dice (1,0) es Mes Enero, Sin Atrasos]"
      ],
      "metadata": {
        "id": "_QQ9NndU5gYn"
      },
      "execution_count": 21,
      "outputs": []
    },
    {
      "cell_type": "code",
      "source": [
        "aerolineas"
      ],
      "metadata": {
        "colab": {
          "base_uri": "https://localhost:8080/"
        },
        "id": "6bPeleH45mi_",
        "outputId": "84c99c2d-6b4f-4dc9-8a33-7201bf33775d"
      },
      "execution_count": 22,
      "outputs": [
        {
          "output_type": "execute_result",
          "data": {
            "text/plain": [
              "{'Aerolineas Argentinas': 0.2560287326834274,\n",
              " 'Aeromexico': 0.03133903133903134,\n",
              " 'Air Canada': 0.4690265486725664,\n",
              " 'Air France': 0.0893854748603352,\n",
              " 'Alitalia': 0.11969111969111969,\n",
              " 'American Airlines': 0.07001321003963012,\n",
              " 'Austral': 0.24324324324324326,\n",
              " 'Avianca': 0.2838541666666667,\n",
              " 'British Airways': 0.15121951219512195,\n",
              " 'Copa Air': 0.06756756756756757,\n",
              " 'Delta Air': 0.061452513966480445,\n",
              " 'Gol Trans': 0.3746898263027295,\n",
              " 'Grupo LATAM': 0.19478137533013792,\n",
              " 'Iberia': 0.12430939226519337,\n",
              " 'JetSmart SPA': 0.18904109589041096,\n",
              " 'K.L.M.': 0.09561752988047809,\n",
              " 'Lacsa': 0.11956521739130435,\n",
              " 'Latin American Wings': 0.4202032277346085,\n",
              " 'Oceanair Linhas Aereas': 0.15412186379928317,\n",
              " 'Plus Ultra Lineas Aereas': 0.6326530612244898,\n",
              " 'Qantas Airways': 0.6,\n",
              " 'Sky Airline': 0.19135543432647922,\n",
              " 'United Airlines': 0.05373134328358209}"
            ]
          },
          "metadata": {},
          "execution_count": 22
        }
      ]
    },
    {
      "cell_type": "markdown",
      "source": [
        "Por aerolineas, se puede ver que Latam tiene un 19.4% de vuelos atrasados y Sky Airline tiene 19.1% vuelos atrasados de los que realizan, pero el que tiene mayor cantidad de vuelos atrasados es Air Canada, siendo un 46.9% de sus vuelos atrasados."
      ],
      "metadata": {
        "id": "KImCE18d5oob"
      }
    },
    {
      "cell_type": "code",
      "source": [
        "dataset.groupby([\"DIANOM\",\"atraso_15\"]).count()[\"DIA\"].plot.bar()\n",
        "# (DIANOM, Atraso): Si dice (1,0) es Día Lunes, Sin Atrasos"
      ],
      "metadata": {
        "colab": {
          "base_uri": "https://localhost:8080/",
          "height": 355
        },
        "id": "ivNV20cR3Ii0",
        "outputId": "1877fea5-9943-49f4-f7de-61eba374889b"
      },
      "execution_count": 23,
      "outputs": [
        {
          "output_type": "execute_result",
          "data": {
            "text/plain": [
              "<matplotlib.axes._subplots.AxesSubplot at 0x7fda4c51df70>"
            ]
          },
          "metadata": {},
          "execution_count": 23
        },
        {
          "output_type": "display_data",
          "data": {
            "text/plain": [
              "<Figure size 432x288 with 1 Axes>"
            ],
            "image/png": "[encoded data removed]"
          },
          "metadata": {
            "needs_background": "light"
          }
        }
      ]
    },
    {
      "cell_type": "markdown",
      "source": [
        "Se puede ver que el día Lunes dúa Jueves y Viernes son los días que reportan más atrasos, siendo que son los días con más vuelos."
      ],
      "metadata": {
        "id": "gWyY74vx6GhM"
      }
    },
    {
      "cell_type": "code",
      "source": [
        "dataset.groupby([\"TIPOVUELO\",\"atraso_15\"]).count()[\"DIA\"].plot.bar()"
      ],
      "metadata": {
        "colab": {
          "base_uri": "https://localhost:8080/",
          "height": 315
        },
        "id": "qvu1yqzs6aEr",
        "outputId": "12ae0795-b7fa-433b-abf2-a8bd785118a6"
      },
      "execution_count": 24,
      "outputs": [
        {
          "output_type": "execute_result",
          "data": {
            "text/plain": [
              "<matplotlib.axes._subplots.AxesSubplot at 0x7fda4c33dfa0>"
            ]
          },
          "metadata": {},
          "execution_count": 24
        },
        {
          "output_type": "display_data",
          "data": {
            "text/plain": [
              "<Figure size 432x288 with 1 Axes>"
            ],
            "image/png": "[encoded data removed]"
          },
          "metadata": {
            "needs_background": "light"
          }
        }
      ]
    },
    {
      "cell_type": "markdown",
      "source": [
        "Se atrasan más vuelos Internacionales que nacionales."
      ],
      "metadata": {
        "id": "_teQPmiR6gl-"
      }
    },
    {
      "cell_type": "code",
      "source": [
        "dataset.groupby([\"temporada_alta\",\"atraso_15\"]).count()[\"DIA\"].plot.bar()"
      ],
      "metadata": {
        "colab": {
          "base_uri": "https://localhost:8080/",
          "height": 314
        },
        "id": "Q0LWDYBa6mSh",
        "outputId": "5f1a57d5-d8bc-4ab9-e490-2443a54424fd"
      },
      "execution_count": 25,
      "outputs": [
        {
          "output_type": "execute_result",
          "data": {
            "text/plain": [
              "<matplotlib.axes._subplots.AxesSubplot at 0x7fda4c29ca00>"
            ]
          },
          "metadata": {},
          "execution_count": 25
        },
        {
          "output_type": "display_data",
          "data": {
            "text/plain": [
              "<Figure size 432x288 with 1 Axes>"
            ],
            "image/png": "[encoded data removed]"
          },
          "metadata": {
            "needs_background": "light"
          }
        }
      ]
    },
    {
      "cell_type": "markdown",
      "source": [
        "En temporada Alta Se atrasan más que en temporada baja un 20% vs un 19%"
      ],
      "metadata": {
        "id": "9Y9HeQBf6pL3"
      }
    },
    {
      "cell_type": "markdown",
      "source": [
        "Esperaria que influyeran más las aerolineas. Hay varias posibles razones por las que una aerolínea podría tener más atrasos que otras. Una posible razón podría ser la mala gestión de la aerolínea, ya sea en la planificación de los vuelos o en la gestión de posibles retrasos. También podría ser debido a la calidad de los aviones utilizados por la aerolínea, o a la falta de personal capacitado para manejar situaciones de retraso."
      ],
      "metadata": {
        "id": "tlF03OTr7AUJ"
      }
    },
    {
      "cell_type": "code",
      "source": [
        "dataset.to_csv(\"synthetic_features.csv\")"
      ],
      "metadata": {
        "id": "-JlTrdIN1Avq"
      },
      "execution_count": 26,
      "outputs": []
    },
    {
      "cell_type": "markdown",
      "source": [
        " La cantidad de vuelos programados en un día puede afectar el riesgo de atrasos, pero no necesariamente aumentará la cantidad de atrasos. Por ejemplo, si hay una mayor cantidad de vuelos programados en un día, podría haber una mayor congestión en el aeropuerto, lo que podría aumentar el riesgo de atrasos. Sin embargo, si la aerolínea tiene una buena gestión y organización, puede minimizar el riesgo de atrasos a pesar de la alta cantidad de vuelos programados.\n",
        " "
      ],
      "metadata": {
        "id": "iMgfikLqygec"
      }
    },
    {
      "cell_type": "code",
      "source": [
        "vuelos_dias = dataset.groupby(['AÑO','MES','DIA' ]).count()[\"DIANOM\"]\n",
        "vuelos_dias = vuelos_dias.reset_index()\n",
        "vuelos_dias.columns = [\"AÑO\", \"MES\", \"DIA\",\"VUELOSDIA\"]\n",
        "dataset_new = pd.merge(dataset, vuelos_dias, on=[\"AÑO\", \"MES\", \"DIA\"]) # Gracias a este merge, podemos contar los vuelos por cada día"
      ],
      "metadata": {
        "id": "c9Va1Z3izJvq"
      },
      "execution_count": 27,
      "outputs": []
    },
    {
      "cell_type": "markdown",
      "source": [
        "Tambien se considera que los vuelos proximos de hacia atras o hacia adelante pueden tambien atrasar el despegue de un vuelo."
      ],
      "metadata": {
        "id": "Z1tueWs3CMny"
      }
    },
    {
      "cell_type": "code",
      "source": [
        "def vuelos_cercanos(row, horas):\n",
        "    hora_antes, hora_despues =horas\n",
        "    return len(dataset_new[ (dataset_new['Fecha-I'] >= row['Fecha-I'] - pd.DateOffset(hours=hora_antes)) &\n",
        "                            (dataset_new['Fecha-I'] <= row['Fecha-I'] + pd.DateOffset(hours=hora_despues)) ] )\n",
        "\n",
        "columnas_nuevas = {\"24horas_antes\":(24,0),\n",
        "                   \"12horas_antes\":(12,0),\n",
        "                   \"6horas_antes\":(6,0),\n",
        "                   \"3horas_antes\":(3,0),\n",
        "                   \"3horas_despues\":(0,3),\n",
        "                   \"6horas_despues\":(0,6),\n",
        "                   \"12horas_despues\":(0,12),\n",
        "                   \"24horas_despues\":(0,24),\n",
        "                   \"3horas_entre\":(3,3),\n",
        "                   \"6horas_entre\":(6,6),\n",
        "                   \"12horas_entre\":(12,12)}\n",
        "\n",
        "for new_feature in columnas_nuevas:\n",
        "  dataset_new[new_feature] = dataset_new.apply(\n",
        "                              lambda row: vuelos_cercanos(\n",
        "                                  row, columnas_nuevas[new_feature]) ,\n",
        "                                  axis='columns')"
      ],
      "metadata": {
        "id": "C4WQEtYBxla6"
      },
      "execution_count": 28,
      "outputs": []
    },
    {
      "cell_type": "markdown",
      "source": [
        "Luego se hará una diferenciación de Numero de vuelos, si son distintos Vlo-I con Vlo-O, entonces es 1, sino es 0. (Asumiendo que por atrasos pueden que hayan tenido que cambiar de avion, dado que un avion programado no haya estado en el aeropuerto por atraso o clima).\n",
        "\n"
      ],
      "metadata": {
        "id": "kDG7DJbTsI3m"
      }
    },
    {
      "cell_type": "code",
      "source": [
        "def diff_vlo(row):\n",
        "  if str(row[\"Vlo-I\"]).strip() == str(row[\"Vlo-O\"]).strip():\n",
        "    return 0\n",
        "  return 1\n",
        "\n",
        "dataset_new[\"Vlo_diff\"] = dataset_new.apply( lambda row: diff_vlo(\n",
        "                                              row) ,\n",
        "                                              axis='columns')"
      ],
      "metadata": {
        "id": "qBOsZIlXsdEx"
      },
      "execution_count": 29,
      "outputs": []
    },
    {
      "cell_type": "code",
      "source": [
        "dataset_new.to_csv(\"synthetic_features_propuestas.csv\")"
      ],
      "metadata": {
        "id": "DIsugPFwvP1Q"
      },
      "execution_count": 30,
      "outputs": []
    },
    {
      "cell_type": "markdown",
      "source": [
        "Ahora se tienen los datos de cantidad de vuelos en 3,6,12,24 hroas antes y despues, dependiendo de cada vuelo y la suma de vuelos de ellos antes o despues.\n"
      ],
      "metadata": {
        "id": "2vagkzS2jp9a"
      }
    },
    {
      "cell_type": "markdown",
      "source": [
        "# Filtro de Caracteristicas \n",
        "\n",
        "Para hacer que el modelo aprenda sin tener un sesgo entre medio, debemos seleccionar las columnas. Para empezar, nuestra columnaa predecir es 'atraso_15', que ya se encuentra con los significados 0 (sin atrasos) y 1 (avión atrasado).\n"
      ],
      "metadata": {
        "id": "Vv1gHF-EkFkm"
      }
    },
    {
      "cell_type": "code",
      "source": [
        "dataset_new.columns"
      ],
      "metadata": {
        "colab": {
          "base_uri": "https://localhost:8080/"
        },
        "id": "fnX6teEDquts",
        "outputId": "ce895b8d-c8ac-447d-f6a2-993ca1b72965"
      },
      "execution_count": 31,
      "outputs": [
        {
          "output_type": "execute_result",
          "data": {
            "text/plain": [
              "Index(['Fecha-I', 'Vlo-I', 'Ori-I', 'Des-I', 'Emp-I', 'Fecha-O', 'Vlo-O',\n",
              "       'Ori-O', 'Des-O', 'Emp-O', 'DIA', 'MES', 'AÑO', 'DIANOM', 'TIPOVUELO',\n",
              "       'OPERA', 'SIGLAORI', 'SIGLADES', 'temporada_alta', 'dif_min',\n",
              "       'atraso_15', 'periodo_dia', 'VUELOSDIA', '24horas_antes',\n",
              "       '12horas_antes', '6horas_antes', '3horas_antes', '3horas_despues',\n",
              "       '6horas_despues', '12horas_despues', '24horas_despues', '3horas_entre',\n",
              "       '6horas_entre', '12horas_entre', 'Vlo_diff'],\n",
              "      dtype='object')"
            ]
          },
          "metadata": {},
          "execution_count": 31
        }
      ]
    },
    {
      "cell_type": "markdown",
      "source": [
        "Se va a ignorar todas las columnas que puedan entregar indirectamente los valores de \"atraso_15\", es decir, no se usaran las columnas que se usaron para calcularla.\n",
        "Se ignoraran: 'Fecha-I', 'Fecha-O' y 'dif_min'.\n",
        "\n",
        "Utilizaremos varias de las features creadas en este proceso:\n",
        " - La columna \"Vlo_diff\", que contiene la información de \"Vlo-I\" y \"Vlo-O\". (0,1) \n",
        " - La columna 'TIPOVUELO',  Nacional 1 y Internacional 0\n",
        " - La columna 'OPERA', que será utilizado por Hotencoder. }\n",
        " - La columna 'temporada_alta', Si se encuentra en las fechas de temporada alta 1, sino 0.\n",
        " - La columna 'periodo_dia', Que se tiene si el vuelo es de mañana, tarde o noche. (otro Hot Encoder).\n",
        " - La columna 'VUELOSDIA', Total de vuelo en el día.\n",
        " - Y las columnas de cuantos vuelos se encuentran cercanos al vuelo programado. \n",
        " Estas dos ultimas columnas hay que normalizarlas.\n",
        " "
      ],
      "metadata": {
        "id": "gT97KvjQq2O9"
      }
    },
    {
      "cell_type": "code",
      "source": [
        "selected_features = dataset_new[[\"Vlo_diff\",\"temporada_alta\"]] #Ya con HotEncoder"
      ],
      "metadata": {
        "id": "HgkJev861AwH"
      },
      "execution_count": 32,
      "outputs": []
    },
    {
      "cell_type": "code",
      "source": [
        "selected_features[\"TIPOVUELO\"] = pd.get_dummies(dataset_new['TIPOVUELO'])[\"N\"] # 0: Nacional, 1:Internacional"
      ],
      "metadata": {
        "colab": {
          "base_uri": "https://localhost:8080/"
        },
        "id": "Am9Em_Ti1K1d",
        "outputId": "0ccd2467-104f-4153-e83b-443a61d80b43"
      },
      "execution_count": 33,
      "outputs": [
        {
          "output_type": "stream",
          "name": "stderr",
          "text": [
            "<ipython-input-33-93761af24030>:1: SettingWithCopyWarning: \n",
            "A value is trying to be set on a copy of a slice from a DataFrame.\n",
            "Try using .loc[row_indexer,col_indexer] = value instead\n",
            "\n",
            "See the caveats in the documentation: https://pandas.pydata.org/pandas-docs/stable/user_guide/indexing.html#returning-a-view-versus-a-copy\n",
            "  selected_features[\"TIPOVUELO\"] = pd.get_dummies(dataset_new['TIPOVUELO'])[\"N\"] # 0: Nacional, 1:Internacional\n"
          ]
        }
      ]
    },
    {
      "cell_type": "code",
      "source": [
        "selected_features = selected_features.join( pd.get_dummies(dataset_new['DIANOM']) )"
      ],
      "metadata": {
        "id": "ab-Ev1TO1tqA"
      },
      "execution_count": 34,
      "outputs": []
    },
    {
      "cell_type": "code",
      "source": [
        "selected_features = selected_features.join( pd.get_dummies(dataset_new['OPERA']) )"
      ],
      "metadata": {
        "id": "D51zu2xD1l0z"
      },
      "execution_count": 35,
      "outputs": []
    },
    {
      "cell_type": "code",
      "source": [
        "# Normaliza por Min_max en VuelosDia\n",
        "selected_features['VUELOSDIA_minmax'] = (\n",
        "    dataset_new['VUELOSDIA'] -\n",
        "    dataset_new['VUELOSDIA'].min()\n",
        ") /  (dataset_new['VUELOSDIA'].max() -dataset_new['VUELOSDIA'].min())"
      ],
      "metadata": {
        "id": "b1smoC0u2CAm"
      },
      "execution_count": 92,
      "outputs": []
    },
    {
      "cell_type": "code",
      "source": [
        "# Se normalizan con MinMax la cantidad de vuelos por horario\n",
        "for key in columnas_nuevas:\n",
        "  selected_features['{}_minmax'.format(key)] = (\n",
        "      (    dataset_new[key] - dataset_new[key].min()\n",
        "  ) /  (dataset_new[key].max() -dataset_new[key].min()))"
      ],
      "metadata": {
        "id": "0LTNVPlX2n61"
      },
      "execution_count": 93,
      "outputs": []
    },
    {
      "cell_type": "code",
      "source": [
        "for key in [\"DIA\",\"MES\"]:\n",
        "  selected_features['{}_minmax'.format(key)] = (\n",
        "      (    dataset_new[key] - dataset_new[key].min()\n",
        "  ) /  (dataset_new[key].max() -dataset_new[key].min()))"
      ],
      "metadata": {
        "id": "Kca_2auEGRrC"
      },
      "execution_count": 94,
      "outputs": []
    },
    {
      "cell_type": "code",
      "source": [
        "selected_features.to_csv(\"synthetic_features_propuestas.csv\")"
      ],
      "metadata": {
        "id": "KdgmIb9kTSXu"
      },
      "execution_count": 103,
      "outputs": []
    },
    {
      "cell_type": "code",
      "source": [
        "selected_features.describe()"
      ],
      "metadata": {
        "colab": {
          "base_uri": "https://localhost:8080/",
          "height": 394
        },
        "id": "1xYdubrD1VB1",
        "outputId": "ea67030c-9244-413d-906e-66a25c80545a"
      },
      "execution_count": 95,
      "outputs": [
        {
          "output_type": "execute_result",
          "data": {
            "text/plain": [
              "           Vlo_diff  temporada_alta     TIPOVUELO       Domingo        Jueves  \\\n",
              "count  68205.000000    68205.000000  68205.000000  68205.000000  68205.000000   \n",
              "mean       0.066241        0.325343      0.541984      0.143626      0.150282   \n",
              "std        0.248706        0.468506      0.498238      0.350712      0.357350   \n",
              "min        0.000000        0.000000      0.000000      0.000000      0.000000   \n",
              "25%        0.000000        0.000000      0.000000      0.000000      0.000000   \n",
              "50%        0.000000        0.000000      1.000000      0.000000      0.000000   \n",
              "75%        0.000000        1.000000      1.000000      0.000000      0.000000   \n",
              "max        1.000000        1.000000      1.000000      1.000000      1.000000   \n",
              "\n",
              "              Lunes        Martes     Miercoles        Sabado       Viernes  \\\n",
              "count  68205.000000  68205.000000  68205.000000  68205.000000  68205.000000   \n",
              "mean       0.148537      0.141661      0.142541      0.122454      0.150898   \n",
              "std        0.355635      0.348705      0.349607      0.327812      0.357952   \n",
              "min        0.000000      0.000000      0.000000      0.000000      0.000000   \n",
              "25%        0.000000      0.000000      0.000000      0.000000      0.000000   \n",
              "50%        0.000000      0.000000      0.000000      0.000000      0.000000   \n",
              "75%        0.000000      0.000000      0.000000      0.000000      0.000000   \n",
              "max        1.000000      1.000000      1.000000      1.000000      1.000000   \n",
              "\n",
              "       ...  12horas_antes_minmax  6horas_antes_minmax  3horas_antes_minmax  \\\n",
              "count  ...          68205.000000         68205.000000         68205.000000   \n",
              "mean   ...              0.652153             0.643675             0.554804   \n",
              "std    ...              0.158535             0.191548             0.176500   \n",
              "min    ...              0.000000             0.000000             0.000000   \n",
              "25%    ...              0.524138             0.512821             0.479167   \n",
              "50%    ...              0.648276             0.705128             0.583333   \n",
              "75%    ...              0.786207             0.782051             0.666667   \n",
              "max    ...              1.000000             1.000000             1.000000   \n",
              "\n",
              "       3horas_despues_minmax  6horas_despues_minmax  12horas_despues_minmax  \\\n",
              "count           68205.000000           68205.000000            68205.000000   \n",
              "mean                0.554804               0.639047                0.649737   \n",
              "std                 0.177117               0.194672                0.160009   \n",
              "min                 0.000000               0.000000                0.000000   \n",
              "25%                 0.479167               0.506494                0.520833   \n",
              "50%                 0.583333               0.701299                0.645833   \n",
              "75%                 0.666667               0.779221                0.784722   \n",
              "max                 1.000000               1.000000                1.000000   \n",
              "\n",
              "       24horas_despues_minmax  3horas_entre_minmax  6horas_entre_minmax  \\\n",
              "count            68205.000000         68205.000000         68205.000000   \n",
              "mean                 0.794925             0.662946             0.663316   \n",
              "std                  0.085995             0.177298             0.147586   \n",
              "min                  0.000000             0.000000             0.000000   \n",
              "25%                  0.741525             0.597222             0.552239   \n",
              "50%                  0.805085             0.708333             0.671642   \n",
              "75%                  0.855932             0.777778             0.776119   \n",
              "max                  1.000000             1.000000             1.000000   \n",
              "\n",
              "       12horas_entre_minmax  \n",
              "count          68205.000000  \n",
              "mean               0.720204  \n",
              "std                0.110845  \n",
              "min                0.000000  \n",
              "25%                0.647399  \n",
              "50%                0.734104  \n",
              "75%                0.803468  \n",
              "max                1.000000  \n",
              "\n",
              "[8 rows x 47 columns]"
            ],
            "text/html": [
              "\n",
              "  <div id=\"df-73e34a4b-aba4-4fd9-83ee-b9dd7ca260d8\">\n",
              "    <div class=\"colab-df-container\">\n",
              "      <div>\n",
              "<style scoped>\n",
              "    .dataframe tbody tr th:only-of-type {\n",
              "        vertical-align: middle;\n",
              "    }\n",
              "\n",
              "    .dataframe tbody tr th {\n",
              "        vertical-align: top;\n",
              "    }\n",
              "\n",
              "    .dataframe thead th {\n",
              "        text-align: right;\n",
              "    }\n",
              "</style>\n",
              "<table border=\"1\" class=\"dataframe\">\n",
              "  <thead>\n",
              "    <tr style=\"text-align: right;\">\n",
              "      <th></th>\n",
              "      <th>Vlo_diff</th>\n",
              "      <th>temporada_alta</th>\n",
              "      <th>TIPOVUELO</th>\n",
              "      <th>Domingo</th>\n",
              "      <th>Jueves</th>\n",
              "      <th>Lunes</th>\n",
              "      <th>Martes</th>\n",
              "      <th>Miercoles</th>\n",
              "      <th>Sabado</th>\n",
              "      <th>Viernes</th>\n",
              "      <th>...</th>\n",
              "      <th>12horas_antes_minmax</th>\n",
              "      <th>6horas_antes_minmax</th>\n",
              "      <th>3horas_antes_minmax</th>\n",
              "      <th>3horas_despues_minmax</th>\n",
              "      <th>6horas_despues_minmax</th>\n",
              "      <th>12horas_despues_minmax</th>\n",
              "      <th>24horas_despues_minmax</th>\n",
              "      <th>3horas_entre_minmax</th>\n",
              "      <th>6horas_entre_minmax</th>\n",
              "      <th>12horas_entre_minmax</th>\n",
              "    </tr>\n",
              "  </thead>\n",
              "  <tbody>\n",
              "    <tr>\n",
              "      <th>count</th>\n",
              "      <td>68205.000000</td>\n",
              "      <td>68205.000000</td>\n",
              "      <td>68205.000000</td>\n",
              "      <td>68205.000000</td>\n",
              "      <td>68205.000000</td>\n",
              "      <td>68205.000000</td>\n",
              "      <td>68205.000000</td>\n",
              "      <td>68205.000000</td>\n",
              "      <td>68205.000000</td>\n",
              "      <td>68205.000000</td>\n",
              "      <td>...</td>\n",
              "      <td>68205.000000</td>\n",
              "      <td>68205.000000</td>\n",
              "      <td>68205.000000</td>\n",
              "      <td>68205.000000</td>\n",
              "      <td>68205.000000</td>\n",
              "      <td>68205.000000</td>\n",
              "      <td>68205.000000</td>\n",
              "      <td>68205.000000</td>\n",
              "      <td>68205.000000</td>\n",
              "      <td>68205.000000</td>\n",
              "    </tr>\n",
              "    <tr>\n",
              "      <th>mean</th>\n",
              "      <td>0.066241</td>\n",
              "      <td>0.325343</td>\n",
              "      <td>0.541984</td>\n",
              "      <td>0.143626</td>\n",
              "      <td>0.150282</td>\n",
              "      <td>0.148537</td>\n",
              "      <td>0.141661</td>\n",
              "      <td>0.142541</td>\n",
              "      <td>0.122454</td>\n",
              "      <td>0.150898</td>\n",
              "      <td>...</td>\n",
              "      <td>0.652153</td>\n",
              "      <td>0.643675</td>\n",
              "      <td>0.554804</td>\n",
              "      <td>0.554804</td>\n",
              "      <td>0.639047</td>\n",
              "      <td>0.649737</td>\n",
              "      <td>0.794925</td>\n",
              "      <td>0.662946</td>\n",
              "      <td>0.663316</td>\n",
              "      <td>0.720204</td>\n",
              "    </tr>\n",
              "    <tr>\n",
              "      <th>std</th>\n",
              "      <td>0.248706</td>\n",
              "      <td>0.468506</td>\n",
              "      <td>0.498238</td>\n",
              "      <td>0.350712</td>\n",
              "      <td>0.357350</td>\n",
              "      <td>0.355635</td>\n",
              "      <td>0.348705</td>\n",
              "      <td>0.349607</td>\n",
              "      <td>0.327812</td>\n",
              "      <td>0.357952</td>\n",
              "      <td>...</td>\n",
              "      <td>0.158535</td>\n",
              "      <td>0.191548</td>\n",
              "      <td>0.176500</td>\n",
              "      <td>0.177117</td>\n",
              "      <td>0.194672</td>\n",
              "      <td>0.160009</td>\n",
              "      <td>0.085995</td>\n",
              "      <td>0.177298</td>\n",
              "      <td>0.147586</td>\n",
              "      <td>0.110845</td>\n",
              "    </tr>\n",
              "    <tr>\n",
              "      <th>min</th>\n",
              "      <td>0.000000</td>\n",
              "      <td>0.000000</td>\n",
              "      <td>0.000000</td>\n",
              "      <td>0.000000</td>\n",
              "      <td>0.000000</td>\n",
              "      <td>0.000000</td>\n",
              "      <td>0.000000</td>\n",
              "      <td>0.000000</td>\n",
              "      <td>0.000000</td>\n",
              "      <td>0.000000</td>\n",
              "      <td>...</td>\n",
              "      <td>0.000000</td>\n",
              "      <td>0.000000</td>\n",
              "      <td>0.000000</td>\n",
              "      <td>0.000000</td>\n",
              "      <td>0.000000</td>\n",
              "      <td>0.000000</td>\n",
              "      <td>0.000000</td>\n",
              "      <td>0.000000</td>\n",
              "      <td>0.000000</td>\n",
              "      <td>0.000000</td>\n",
              "    </tr>\n",
              "    <tr>\n",
              "      <th>25%</th>\n",
              "      <td>0.000000</td>\n",
              "      <td>0.000000</td>\n",
              "      <td>0.000000</td>\n",
              "      <td>0.000000</td>\n",
              "      <td>0.000000</td>\n",
              "      <td>0.000000</td>\n",
              "      <td>0.000000</td>\n",
              "      <td>0.000000</td>\n",
              "      <td>0.000000</td>\n",
              "      <td>0.000000</td>\n",
              "      <td>...</td>\n",
              "      <td>0.524138</td>\n",
              "      <td>0.512821</td>\n",
              "      <td>0.479167</td>\n",
              "      <td>0.479167</td>\n",
              "      <td>0.506494</td>\n",
              "      <td>0.520833</td>\n",
              "      <td>0.741525</td>\n",
              "      <td>0.597222</td>\n",
              "      <td>0.552239</td>\n",
              "      <td>0.647399</td>\n",
              "    </tr>\n",
              "    <tr>\n",
              "      <th>50%</th>\n",
              "      <td>0.000000</td>\n",
              "      <td>0.000000</td>\n",
              "      <td>1.000000</td>\n",
              "      <td>0.000000</td>\n",
              "      <td>0.000000</td>\n",
              "      <td>0.000000</td>\n",
              "      <td>0.000000</td>\n",
              "      <td>0.000000</td>\n",
              "      <td>0.000000</td>\n",
              "      <td>0.000000</td>\n",
              "      <td>...</td>\n",
              "      <td>0.648276</td>\n",
              "      <td>0.705128</td>\n",
              "      <td>0.583333</td>\n",
              "      <td>0.583333</td>\n",
              "      <td>0.701299</td>\n",
              "      <td>0.645833</td>\n",
              "      <td>0.805085</td>\n",
              "      <td>0.708333</td>\n",
              "      <td>0.671642</td>\n",
              "      <td>0.734104</td>\n",
              "    </tr>\n",
              "    <tr>\n",
              "      <th>75%</th>\n",
              "      <td>0.000000</td>\n",
              "      <td>1.000000</td>\n",
              "      <td>1.000000</td>\n",
              "      <td>0.000000</td>\n",
              "      <td>0.000000</td>\n",
              "      <td>0.000000</td>\n",
              "      <td>0.000000</td>\n",
              "      <td>0.000000</td>\n",
              "      <td>0.000000</td>\n",
              "      <td>0.000000</td>\n",
              "      <td>...</td>\n",
              "      <td>0.786207</td>\n",
              "      <td>0.782051</td>\n",
              "      <td>0.666667</td>\n",
              "      <td>0.666667</td>\n",
              "      <td>0.779221</td>\n",
              "      <td>0.784722</td>\n",
              "      <td>0.855932</td>\n",
              "      <td>0.777778</td>\n",
              "      <td>0.776119</td>\n",
              "      <td>0.803468</td>\n",
              "    </tr>\n",
              "    <tr>\n",
              "      <th>max</th>\n",
              "      <td>1.000000</td>\n",
              "      <td>1.000000</td>\n",
              "      <td>1.000000</td>\n",
              "      <td>1.000000</td>\n",
              "      <td>1.000000</td>\n",
              "      <td>1.000000</td>\n",
              "      <td>1.000000</td>\n",
              "      <td>1.000000</td>\n",
              "      <td>1.000000</td>\n",
              "      <td>1.000000</td>\n",
              "      <td>...</td>\n",
              "      <td>1.000000</td>\n",
              "      <td>1.000000</td>\n",
              "      <td>1.000000</td>\n",
              "      <td>1.000000</td>\n",
              "      <td>1.000000</td>\n",
              "      <td>1.000000</td>\n",
              "      <td>1.000000</td>\n",
              "      <td>1.000000</td>\n",
              "      <td>1.000000</td>\n",
              "      <td>1.000000</td>\n",
              "    </tr>\n",
              "  </tbody>\n",
              "</table>\n",
              "<p>8 rows × 47 columns</p>\n",
              "</div>\n",
              "      <button class=\"colab-df-convert\" onclick=\"convertToInteractive('df-73e34a4b-aba4-4fd9-83ee-b9dd7ca260d8')\"\n",
              "              title=\"Convert this dataframe to an interactive table.\"\n",
              "              style=\"display:none;\">\n",
              "        \n",
              "  <svg xmlns=\"http://www.w3.org/2000/svg\" height=\"24px\"viewBox=\"0 0 24 24\"\n",
              "       width=\"24px\">\n",
              "    <path d=\"M0 0h24v24H0V0z\" fill=\"none\"/>\n",
              "    <path d=\"M18.56 5.44l.94 2.06.94-2.06 2.06-.94-2.06-.94-.94-2.06-.94 2.06-2.06.94zm-11 1L8.5 8.5l.94-2.06 2.06-.94-2.06-.94L8.5 2.5l-.94 2.06-2.06.94zm10 10l.94 2.06.94-2.06 2.06-.94-2.06-.94-.94-2.06-.94 2.06-2.06.94z\"/><path d=\"M17.41 7.96l-1.37-1.37c-.4-.4-.92-.59-1.43-.59-.52 0-1.04.2-1.43.59L10.3 9.45l-7.72 7.72c-.78.78-.78 2.05 0 2.83L4 21.41c.39.39.9.59 1.41.59.51 0 1.02-.2 1.41-.59l7.78-7.78 2.81-2.81c.8-.78.8-2.07 0-2.86zM5.41 20L4 18.59l7.72-7.72 1.47 1.35L5.41 20z\"/>\n",
              "  </svg>\n",
              "      </button>\n",
              "      \n",
              "  <style>\n",
              "    .colab-df-container {\n",
              "      display:flex;\n",
              "      flex-wrap:wrap;\n",
              "      gap: 12px;\n",
              "    }\n",
              "\n",
              "    .colab-df-convert {\n",
              "      background-color: #E8F0FE;\n",
              "      border: none;\n",
              "      border-radius: 50%;\n",
              "      cursor: pointer;\n",
              "      display: none;\n",
              "      fill: #1967D2;\n",
              "      height: 32px;\n",
              "      padding: 0 0 0 0;\n",
              "      width: 32px;\n",
              "    }\n",
              "\n",
              "    .colab-df-convert:hover {\n",
              "      background-color: #E2EBFA;\n",
              "      box-shadow: 0px 1px 2px rgba(60, 64, 67, 0.3), 0px 1px 3px 1px rgba(60, 64, 67, 0.15);\n",
              "      fill: #174EA6;\n",
              "    }\n",
              "\n",
              "    [theme=dark] .colab-df-convert {\n",
              "      background-color: #3B4455;\n",
              "      fill: #D2E3FC;\n",
              "    }\n",
              "\n",
              "    [theme=dark] .colab-df-convert:hover {\n",
              "      background-color: #434B5C;\n",
              "      box-shadow: 0px 1px 3px 1px rgba(0, 0, 0, 0.15);\n",
              "      filter: drop-shadow(0px 1px 2px rgba(0, 0, 0, 0.3));\n",
              "      fill: #FFFFFF;\n",
              "    }\n",
              "  </style>\n",
              "\n",
              "      <script>\n",
              "        const buttonEl =\n",
              "          document.querySelector('#df-73e34a4b-aba4-4fd9-83ee-b9dd7ca260d8 button.colab-df-convert');\n",
              "        buttonEl.style.display =\n",
              "          google.colab.kernel.accessAllowed ? 'block' : 'none';\n",
              "\n",
              "        async function convertToInteractive(key) {\n",
              "          const element = document.querySelector('#df-73e34a4b-aba4-4fd9-83ee-b9dd7ca260d8');\n",
              "          const dataTable =\n",
              "            await google.colab.kernel.invokeFunction('convertToInteractive',\n",
              "                                                     [key], {});\n",
              "          if (!dataTable) return;\n",
              "\n",
              "          const docLinkHtml = 'Like what you see? Visit the ' +\n",
              "            '<a target=\"_blank\" href=https://colab.research.google.com/notebooks/data_table.ipynb>data table notebook</a>'\n",
              "            + ' to learn more about interactive tables.';\n",
              "          element.innerHTML = '';\n",
              "          dataTable['output_type'] = 'display_data';\n",
              "          await google.colab.output.renderOutput(dataTable, element);\n",
              "          const docLink = document.createElement('div');\n",
              "          docLink.innerHTML = docLinkHtml;\n",
              "          element.appendChild(docLink);\n",
              "        }\n",
              "      </script>\n",
              "    </div>\n",
              "  </div>\n",
              "  "
            ]
          },
          "metadata": {},
          "execution_count": 95
        }
      ]
    },
    {
      "cell_type": "markdown",
      "source": [
        "# Entrenamiento"
      ],
      "metadata": {
        "id": "FjKh-LdlRSry"
      }
    },
    {
      "cell_type": "code",
      "source": [
        "from sklearn.model_selection import train_test_split\n",
        "X, y = selected_features, dataset_new[\"atraso_15\"]\n",
        "X_train, X_test, y_train, y_test = train_test_split(\n",
        "    X, y, test_size=0.2, random_state=42\n",
        ")"
      ],
      "metadata": {
        "id": "aseeevz1w3lF"
      },
      "execution_count": 96,
      "outputs": []
    },
    {
      "cell_type": "code",
      "source": [
        "from sklearn.utils.class_weight import compute_sample_weight\n",
        "def predict(model, balanced = True):\n",
        "    \"\"\"Con esta función se puede entrenar y ver métricas rápida de algún modelo.\n",
        "\n",
        "    Args:\n",
        "        model (sklearn.model): El modelo que se quiere entrenar.\n",
        "    \"\"\"\n",
        "    print('Model: {}'.format(model))   #Imprime el modelo a estudiar\n",
        "    if balanced:\n",
        "        sample_weights = compute_sample_weight(\n",
        "            class_weight='balanced', y=y_train)\n",
        "        model.fit(X_train,y_train, sample_weight=sample_weights)\n",
        "    else:\n",
        "        model.fit(X_train,y_train)  #Entrenando modelo\n",
        "    y_pred = model.predict(X_test) #Prediciendo modelo\n",
        "    print('R2 score',r2_score(y_test,y_pred)) \n",
        "    y_pred_int = [int(item) for item in (y_pred > 0.5)]  \n",
        "    print('Accuracy', accuracy_score(y_test,y_pred_int))\n",
        "    print('Accuracy', round(accuracy_score(y_test, y_pred_int),3))\n",
        "    print('Precision', round(precision_score(y_test, y_pred_int),3))\n",
        "    print('Recall', round(recall_score(y_test, y_pred_int),3))\n",
        "    print('F1 Score', round(f1_score(y_test, y_pred_int),3))\n",
        "    sns.distplot(y_test-y_pred, label = str(model)) # Graficando modelo\n",
        "    cm = confusion_matrix( y_test, y_pred_int)\n",
        "    cm_display = ConfusionMatrixDisplay(confusion_matrix = cm, display_labels = [\"Sin Atraso\", \"Atraso\"]) \n",
        "    cm_display.plot() \n",
        "    plt.show()\n",
        "    try:\n",
        "        coeficientes = pd.DataFrame(data={'var': X_train.columns.values, 'coef': model.coef_[0]})\n",
        "        coeficientes = coeficientes.sort_values('coef')\n",
        "        print(coeficientes.head(5))\n",
        "        print(coeficientes.tail(5))\n",
        "    except:\n",
        "        pass"
      ],
      "metadata": {
        "id": "JFpn3C_p3_ix"
      },
      "execution_count": 97,
      "outputs": []
    },
    {
      "cell_type": "code",
      "source": [
        "lista_modelos = [Lasso(),LinearRegression(),Ridge(),KNeighborsRegressor(),\n",
        "                 XGBRegressor()]\n",
        "\n",
        "for model in lista_modelos:\n",
        "    predict(model, False)"
      ],
      "metadata": {
        "colab": {
          "base_uri": "https://localhost:8080/",
          "height": 1000
        },
        "id": "CJeYuR7e4EhI",
        "outputId": "fdb7572f-7145-4d8d-de1f-4800b718383b"
      },
      "execution_count": 98,
      "outputs": [
        {
          "output_type": "stream",
          "name": "stdout",
          "text": [
            "Model: Lasso()\n",
            "R2 score -1.2193242012070726e-05\n",
            "Accuracy 0.801480829851184\n",
            "Accuracy 0.801\n",
            "Precision 0.0\n",
            "Recall 0.0\n",
            "F1 Score 0.0\n"
          ]
        },
        {
          "output_type": "stream",
          "name": "stderr",
          "text": [
            "/usr/local/lib/python3.8/dist-packages/sklearn/metrics/_classification.py:1318: UndefinedMetricWarning: Precision is ill-defined and being set to 0.0 due to no predicted samples. Use `zero_division` parameter to control this behavior.\n",
            "  _warn_prf(average, modifier, msg_start, len(result))\n",
            "/usr/local/lib/python3.8/dist-packages/seaborn/distributions.py:2619: FutureWarning: `distplot` is a deprecated function and will be removed in a future version. Please adapt your code to use either `displot` (a figure-level function with similar flexibility) or `histplot` (an axes-level function for histograms).\n",
            "  warnings.warn(msg, FutureWarning)\n"
          ]
        },
        {
          "output_type": "display_data",
          "data": {
            "text/plain": [
              "<Figure size 432x288 with 1 Axes>"
            ],
            "image/png": "[encoded data removed]"
          },
          "metadata": {
            "needs_background": "light"
          }
        },
        {
          "output_type": "display_data",
          "data": {
            "text/plain": [
              "<Figure size 432x288 with 2 Axes>"
            ],
            "image/png": "[encoded data removed]"
          },
          "metadata": {
            "needs_background": "light"
          }
        },
        {
          "output_type": "stream",
          "name": "stdout",
          "text": [
            "                       var  coef\n",
            "0                 Vlo_diff   0.0\n",
            "25                  K.L.M.   0.0\n",
            "26                   Lacsa   0.0\n",
            "27    Latin American Wings   0.0\n",
            "28  Oceanair Linhas Aereas   0.0\n",
            "                     var  coef\n",
            "18       British Airways   0.0\n",
            "19              Copa Air   0.0\n",
            "20             Delta Air   0.0\n",
            "11            Aeromexico   0.0\n",
            "46  12horas_entre_minmax   0.0\n",
            "Model: LinearRegression()\n",
            "R2 score 0.059443397952357646\n",
            "Accuracy 0.8036800821054175\n",
            "Accuracy 0.804\n",
            "Precision 0.617\n",
            "Recall 0.029\n",
            "F1 Score 0.056\n"
          ]
        },
        {
          "output_type": "stream",
          "name": "stderr",
          "text": [
            "/usr/local/lib/python3.8/dist-packages/seaborn/distributions.py:2619: FutureWarning: `distplot` is a deprecated function and will be removed in a future version. Please adapt your code to use either `displot` (a figure-level function with similar flexibility) or `histplot` (an axes-level function for histograms).\n",
            "  warnings.warn(msg, FutureWarning)\n"
          ]
        },
        {
          "output_type": "display_data",
          "data": {
            "text/plain": [
              "<Figure size 432x288 with 1 Axes>"
            ],
            "image/png": "[encoded data removed]"
          },
          "metadata": {
            "needs_background": "light"
          }
        },
        {
          "output_type": "display_data",
          "data": {
            "text/plain": [
              "<Figure size 432x288 with 2 Axes>"
            ],
            "image/png": "[encoded data removed]"
          },
          "metadata": {
            "needs_background": "light"
          }
        },
        {
          "output_type": "stream",
          "name": "stdout",
          "text": [
            "                       var      coef\n",
            "0                 Vlo_diff  0.001387\n",
            "25                  K.L.M.  0.001387\n",
            "26                   Lacsa  0.001387\n",
            "27    Latin American Wings  0.001387\n",
            "28  Oceanair Linhas Aereas  0.001387\n",
            "                     var      coef\n",
            "18       British Airways  0.001387\n",
            "19              Copa Air  0.001387\n",
            "20             Delta Air  0.001387\n",
            "11            Aeromexico  0.001387\n",
            "46  12horas_entre_minmax  0.001387\n",
            "Model: Ridge()\n",
            "R2 score 0.059484167355566164\n",
            "Accuracy 0.803606773696943\n",
            "Accuracy 0.804\n",
            "Precision 0.614\n",
            "Recall 0.029\n",
            "F1 Score 0.055\n"
          ]
        },
        {
          "output_type": "stream",
          "name": "stderr",
          "text": [
            "/usr/local/lib/python3.8/dist-packages/seaborn/distributions.py:2619: FutureWarning: `distplot` is a deprecated function and will be removed in a future version. Please adapt your code to use either `displot` (a figure-level function with similar flexibility) or `histplot` (an axes-level function for histograms).\n",
            "  warnings.warn(msg, FutureWarning)\n"
          ]
        },
        {
          "output_type": "display_data",
          "data": {
            "text/plain": [
              "<Figure size 432x288 with 1 Axes>"
            ],
            "image/png": "[encoded data removed]"
          },
          "metadata": {
            "needs_background": "light"
          }
        },
        {
          "output_type": "display_data",
          "data": {
            "text/plain": [
              "<Figure size 432x288 with 2 Axes>"
            ],
            "image/png": "[encoded data removed]"
          },
          "metadata": {
            "needs_background": "light"
          }
        },
        {
          "output_type": "stream",
          "name": "stdout",
          "text": [
            "                       var      coef\n",
            "0                 Vlo_diff  0.001489\n",
            "25                  K.L.M.  0.001489\n",
            "26                   Lacsa  0.001489\n",
            "27    Latin American Wings  0.001489\n",
            "28  Oceanair Linhas Aereas  0.001489\n",
            "                     var      coef\n",
            "18       British Airways  0.001489\n",
            "19              Copa Air  0.001489\n",
            "20             Delta Air  0.001489\n",
            "11            Aeromexico  0.001489\n",
            "46  12horas_entre_minmax  0.001489\n",
            "Model: KNeighborsRegressor()\n",
            "R2 score 0.011799653617353245\n",
            "Accuracy 0.7980353346528847\n",
            "Accuracy 0.798\n",
            "Precision 0.484\n",
            "Recall 0.265\n",
            "F1 Score 0.342\n"
          ]
        },
        {
          "output_type": "stream",
          "name": "stderr",
          "text": [
            "/usr/local/lib/python3.8/dist-packages/seaborn/distributions.py:2619: FutureWarning: `distplot` is a deprecated function and will be removed in a future version. Please adapt your code to use either `displot` (a figure-level function with similar flexibility) or `histplot` (an axes-level function for histograms).\n",
            "  warnings.warn(msg, FutureWarning)\n"
          ]
        },
        {
          "output_type": "display_data",
          "data": {
            "text/plain": [
              "<Figure size 432x288 with 1 Axes>"
            ],
            "image/png": "[encoded data removed]"
          },
          "metadata": {
            "needs_background": "light"
          }
        },
        {
          "output_type": "display_data",
          "data": {
            "text/plain": [
              "<Figure size 432x288 with 2 Axes>"
            ],
            "image/png": "[encoded data removed]"
          },
          "metadata": {
            "needs_background": "light"
          }
        },
        {
          "output_type": "stream",
          "name": "stdout",
          "text": [
            "Model: XGBRegressor()\n",
            "[04:18:31] WARNING: /workspace/src/objective/regression_obj.cu:152: reg:linear is now deprecated in favor of reg:squarederror.\n",
            "R2 score 0.08236865628061885\n",
            "Accuracy 0.8069056520782933\n",
            "Accuracy 0.807\n",
            "Precision 0.687\n",
            "Recall 0.05\n",
            "F1 Score 0.094\n"
          ]
        },
        {
          "output_type": "stream",
          "name": "stderr",
          "text": [
            "/usr/local/lib/python3.8/dist-packages/seaborn/distributions.py:2619: FutureWarning: `distplot` is a deprecated function and will be removed in a future version. Please adapt your code to use either `displot` (a figure-level function with similar flexibility) or `histplot` (an axes-level function for histograms).\n",
            "  warnings.warn(msg, FutureWarning)\n"
          ]
        },
        {
          "output_type": "display_data",
          "data": {
            "text/plain": [
              "<Figure size 432x288 with 1 Axes>"
            ],
            "image/png": "[encoded data removed]"
          },
          "metadata": {
            "needs_background": "light"
          }
        },
        {
          "output_type": "display_data",
          "data": {
            "text/plain": [
              "<Figure size 432x288 with 2 Axes>"
            ],
            "image/png": "[encoded data removed]"
          },
          "metadata": {
            "needs_background": "light"
          }
        }
      ]
    },
    {
      "cell_type": "markdown",
      "source": [
        "Estoy mostrando que los datos aquí estan desbalanceado tal que los modelos prefieren decir que ningun vuelo se atrasa.\n",
        "Como la base de datos se encuentra desbalanceada, se sugiere hacer un entrenamiento con desbalanzamiento.\n",
        "\n",
        "Se puede intentar una de las siguientes técnicas para tratar de equilibrarlo:\n",
        "\n",
        " - Muestrear el conjunto de datos de manera aleatoria para obtener un subconjunto equilibrado de datos.\n",
        "\n",
        " - Sobremuestrear las clases minoritarias del conjunto de datos para aumentar su proporción dentro del conjunto de datos.\n",
        "\n",
        " - Submuestrear las clases mayoritarias del conjunto de datos para reducir su proporción dentro del conjunto de datos.\n",
        "\n",
        " - Utilizar técnicas de remuestreo como el remuestreo por bajo costo o el remuestreo por sobrecosto para tratar de equilibrar el conjunto de datos.\n",
        "\n",
        " - Para implementar cualquiera de estas técnicas en Python, puedes utilizar librerías como imbalanced-learn o scikit-learn para ayudarte a manejar y equilibrar el conjunto de datos. Por ejemplo, puedes usar el módulo de remuestreo de imbalanced-learn para sobremuestrear las clases minoritarias del conjunto de datos de la siguiente manera:"
      ],
      "metadata": {
        "id": "jyI0AYAwHMdF"
      }
    },
    {
      "cell_type": "code",
      "source": [
        "lista_modelos = [Lasso(),LinearRegression(),Ridge(),LogisticRegression()]\n",
        "\n",
        "for model in lista_modelos:\n",
        "    predict(model, True)"
      ],
      "metadata": {
        "colab": {
          "base_uri": "https://localhost:8080/",
          "height": 1000
        },
        "id": "as1B_9Nt4-Bq",
        "outputId": "350b8633-8014-42f5-eb05-8d9bf8aa7a57"
      },
      "execution_count": 99,
      "outputs": [
        {
          "output_type": "stream",
          "name": "stdout",
          "text": [
            "Model: Lasso()\n",
            "R2 score -0.5712468441120016\n",
            "Accuracy 0.19851917014881607\n",
            "Accuracy 0.199\n",
            "Precision 0.199\n",
            "Recall 1.0\n",
            "F1 Score 0.331\n"
          ]
        },
        {
          "output_type": "stream",
          "name": "stderr",
          "text": [
            "/usr/local/lib/python3.8/dist-packages/seaborn/distributions.py:2619: FutureWarning: `distplot` is a deprecated function and will be removed in a future version. Please adapt your code to use either `displot` (a figure-level function with similar flexibility) or `histplot` (an axes-level function for histograms).\n",
            "  warnings.warn(msg, FutureWarning)\n"
          ]
        },
        {
          "output_type": "display_data",
          "data": {
            "text/plain": [
              "<Figure size 432x288 with 1 Axes>"
            ],
            "image/png": "[encoded data removed]"
          },
          "metadata": {
            "needs_background": "light"
          }
        },
        {
          "output_type": "display_data",
          "data": {
            "text/plain": [
              "<Figure size 432x288 with 2 Axes>"
            ],
            "image/png": "[encoded data removed]"
          },
          "metadata": {
            "needs_background": "light"
          }
        },
        {
          "output_type": "stream",
          "name": "stdout",
          "text": [
            "                       var  coef\n",
            "0                 Vlo_diff   0.0\n",
            "25                  K.L.M.   0.0\n",
            "26                   Lacsa   0.0\n",
            "27    Latin American Wings   0.0\n",
            "28  Oceanair Linhas Aereas   0.0\n",
            "                     var  coef\n",
            "18       British Airways   0.0\n",
            "19              Copa Air   0.0\n",
            "20             Delta Air   0.0\n",
            "11            Aeromexico   0.0\n",
            "46  12horas_entre_minmax   0.0\n",
            "Model: LinearRegression()\n",
            "R2 score -0.4445222917838638\n",
            "Accuracy 0.6198959020599663\n",
            "Accuracy 0.62\n",
            "Precision 0.287\n",
            "Recall 0.614\n",
            "F1 Score 0.391\n"
          ]
        },
        {
          "output_type": "stream",
          "name": "stderr",
          "text": [
            "/usr/local/lib/python3.8/dist-packages/seaborn/distributions.py:2619: FutureWarning: `distplot` is a deprecated function and will be removed in a future version. Please adapt your code to use either `displot` (a figure-level function with similar flexibility) or `histplot` (an axes-level function for histograms).\n",
            "  warnings.warn(msg, FutureWarning)\n"
          ]
        },
        {
          "output_type": "display_data",
          "data": {
            "text/plain": [
              "<Figure size 432x288 with 1 Axes>"
            ],
            "image/png": "[encoded data removed]"
          },
          "metadata": {
            "needs_background": "light"
          }
        },
        {
          "output_type": "display_data",
          "data": {
            "text/plain": [
              "<Figure size 432x288 with 2 Axes>"
            ],
            "image/png": "[encoded data removed]"
          },
          "metadata": {
            "needs_background": "light"
          }
        },
        {
          "output_type": "stream",
          "name": "stdout",
          "text": [
            "                       var      coef\n",
            "0                 Vlo_diff -0.010835\n",
            "25                  K.L.M. -0.010835\n",
            "26                   Lacsa -0.010835\n",
            "27    Latin American Wings -0.010835\n",
            "28  Oceanair Linhas Aereas -0.010835\n",
            "                     var      coef\n",
            "18       British Airways -0.010835\n",
            "19              Copa Air -0.010835\n",
            "20             Delta Air -0.010835\n",
            "11            Aeromexico -0.010835\n",
            "46  12horas_entre_minmax -0.010835\n",
            "Model: Ridge()\n",
            "R2 score -0.4233219115723055\n",
            "Accuracy 0.6264203504141925\n",
            "Accuracy 0.626\n",
            "Precision 0.29\n",
            "Recall 0.608\n",
            "F1 Score 0.392\n"
          ]
        },
        {
          "output_type": "stream",
          "name": "stderr",
          "text": [
            "/usr/local/lib/python3.8/dist-packages/seaborn/distributions.py:2619: FutureWarning: `distplot` is a deprecated function and will be removed in a future version. Please adapt your code to use either `displot` (a figure-level function with similar flexibility) or `histplot` (an axes-level function for histograms).\n",
            "  warnings.warn(msg, FutureWarning)\n"
          ]
        },
        {
          "output_type": "display_data",
          "data": {
            "text/plain": [
              "<Figure size 432x288 with 1 Axes>"
            ],
            "image/png": "[encoded data removed]"
          },
          "metadata": {
            "needs_background": "light"
          }
        },
        {
          "output_type": "display_data",
          "data": {
            "text/plain": [
              "<Figure size 432x288 with 2 Axes>"
            ],
            "image/png": "[encoded data removed]"
          },
          "metadata": {
            "needs_background": "light"
          }
        },
        {
          "output_type": "stream",
          "name": "stdout",
          "text": [
            "                       var      coef\n",
            "0                 Vlo_diff -0.008095\n",
            "25                  K.L.M. -0.008095\n",
            "26                   Lacsa -0.008095\n",
            "27    Latin American Wings -0.008095\n",
            "28  Oceanair Linhas Aereas -0.008095\n",
            "                     var      coef\n",
            "18       British Airways -0.008095\n",
            "19              Copa Air -0.008095\n",
            "20             Delta Air -0.008095\n",
            "11            Aeromexico -0.008095\n",
            "46  12horas_entre_minmax -0.008095\n",
            "Model: LogisticRegression()\n"
          ]
        },
        {
          "output_type": "stream",
          "name": "stderr",
          "text": [
            "/usr/local/lib/python3.8/dist-packages/sklearn/linear_model/_logistic.py:814: ConvergenceWarning: lbfgs failed to converge (status=1):\n",
            "STOP: TOTAL NO. of ITERATIONS REACHED LIMIT.\n",
            "\n",
            "Increase the number of iterations (max_iter) or scale the data as shown in:\n",
            "    https://scikit-learn.org/stable/modules/preprocessing.html\n",
            "Please also refer to the documentation for alternative solver options:\n",
            "    https://scikit-learn.org/stable/modules/linear_model.html#logistic-regression\n",
            "  n_iter_i = _check_optimize_result(\n",
            "/usr/local/lib/python3.8/dist-packages/seaborn/distributions.py:2619: FutureWarning: `distplot` is a deprecated function and will be removed in a future version. Please adapt your code to use either `displot` (a figure-level function with similar flexibility) or `histplot` (an axes-level function for histograms).\n",
            "  warnings.warn(msg, FutureWarning)\n"
          ]
        },
        {
          "output_type": "stream",
          "name": "stdout",
          "text": [
            "R2 score -1.3507078362757663\n",
            "Accuracy 0.6259804999633458\n",
            "Accuracy 0.626\n",
            "Precision 0.29\n",
            "Recall 0.61\n",
            "F1 Score 0.393\n"
          ]
        },
        {
          "output_type": "display_data",
          "data": {
            "text/plain": [
              "<Figure size 432x288 with 1 Axes>"
            ],
            "image/png": "[encoded data removed]"
          },
          "metadata": {
            "needs_background": "light"
          }
        },
        {
          "output_type": "display_data",
          "data": {
            "text/plain": [
              "<Figure size 432x288 with 2 Axes>"
            ],
            "image/png": "[encoded data removed]"
          },
          "metadata": {
            "needs_background": "light"
          }
        },
        {
          "output_type": "stream",
          "name": "stdout",
          "text": [
            "                  var      coef\n",
            "11         Aeromexico -2.000541\n",
            "32    United Airlines -1.673229\n",
            "20          Delta Air -1.512730\n",
            "15  American Airlines -1.377895\n",
            "13         Air France -1.071888\n",
            "                         var      coef\n",
            "12                Air Canada  1.188297\n",
            "27      Latin American Wings  1.461737\n",
            "29  Plus Ultra Lineas Aereas  1.578945\n",
            "36      24horas_antes_minmax  1.761947\n",
            "30            Qantas Airways  1.789151\n"
          ]
        }
      ]
    },
    {
      "cell_type": "markdown",
      "source": [
        "Para predecir si los vuelos se van a retrasar debido a un desbalance en el conjunto de datos y es importante saber cuándo un avión se va a retrasar, podría utilizar una métrica de desempeño como la precisión y un modelo de aprendizaje supervisado como una regresión logística.\n",
        "\n",
        "La precisión es una buena métrica de desempeño en este caso ya que me permite medir cuántas predicciones del modelo son correctas. En el caso de predecir si un vuelo se va a retrasar, una alta precisión significaría que el modelo es capaz de predecir con éxito si un vuelo se va a retrasar o no.\n",
        "\n",
        "La regresión logística es un buen modelo en este caso ya que es un modelo de aprendizaje supervisado que puede utilizarse para predecir la probabilidad de que un evento ocurra (en este caso, la probabilidad de que un vuelo se retrase). Además, la regresión logística es capaz de manejar conjuntos de datos desbalanceados y puede ser entrenada para dar peso a las clases minoritarias para mejorar la precisión de las predicciones."
      ],
      "metadata": {
        "id": "U264FVq1P2fr"
      }
    },
    {
      "cell_type": "markdown",
      "source": [
        "Ahora mnuestro el mejor modelo que tuve respecto a la seleccion del Recall"
      ],
      "metadata": {
        "id": "D0IZH4JMNXxP"
      }
    },
    {
      "cell_type": "code",
      "source": [
        "predict(LogisticRegression(), True)"
      ],
      "metadata": {
        "colab": {
          "base_uri": "https://localhost:8080/",
          "height": 1000
        },
        "id": "DMM9ty1IL4k5",
        "outputId": "1b82642f-d24d-480c-8684-894e569cdb29"
      },
      "execution_count": 102,
      "outputs": [
        {
          "output_type": "stream",
          "name": "stdout",
          "text": [
            "Model: LogisticRegression()\n"
          ]
        },
        {
          "output_type": "stream",
          "name": "stderr",
          "text": [
            "/usr/local/lib/python3.8/dist-packages/sklearn/linear_model/_logistic.py:814: ConvergenceWarning: lbfgs failed to converge (status=1):\n",
            "STOP: TOTAL NO. of ITERATIONS REACHED LIMIT.\n",
            "\n",
            "Increase the number of iterations (max_iter) or scale the data as shown in:\n",
            "    https://scikit-learn.org/stable/modules/preprocessing.html\n",
            "Please also refer to the documentation for alternative solver options:\n",
            "    https://scikit-learn.org/stable/modules/linear_model.html#logistic-regression\n",
            "  n_iter_i = _check_optimize_result(\n",
            "/usr/local/lib/python3.8/dist-packages/seaborn/distributions.py:2619: FutureWarning: `distplot` is a deprecated function and will be removed in a future version. Please adapt your code to use either `displot` (a figure-level function with similar flexibility) or `histplot` (an axes-level function for histograms).\n",
            "  warnings.warn(msg, FutureWarning)\n"
          ]
        },
        {
          "output_type": "stream",
          "name": "stdout",
          "text": [
            "R2 score -1.3507078362757663\n",
            "Accuracy 0.6259804999633458\n",
            "Accuracy 0.626\n",
            "Precision 0.29\n",
            "Recall 0.61\n",
            "F1 Score 0.393\n"
          ]
        },
        {
          "output_type": "display_data",
          "data": {
            "text/plain": [
              "<Figure size 432x288 with 1 Axes>"
            ],
            "image/png": "[encoded data removed]"
          },
          "metadata": {
            "needs_background": "light"
          }
        },
        {
          "output_type": "display_data",
          "data": {
            "text/plain": [
              "<Figure size 432x288 with 2 Axes>"
            ],
            "image/png": "[encoded data removed]"
          },
          "metadata": {
            "needs_background": "light"
          }
        },
        {
          "output_type": "stream",
          "name": "stdout",
          "text": [
            "                         var      coef\n",
            "11                Aeromexico -2.000541\n",
            "32           United Airlines -1.673229\n",
            "20                 Delta Air -1.512730\n",
            "15         American Airlines -1.377895\n",
            "13                Air France -1.071888\n",
            "19                  Copa Air -0.867366\n",
            "41     6horas_despues_minmax -0.854089\n",
            "25                    K.L.M. -0.806145\n",
            "2                  TIPOVUELO -0.691647\n",
            "14                  Alitalia -0.574147\n",
            "23                    Iberia -0.509818\n",
            "28    Oceanair Linhas Aereas -0.427473\n",
            "18           British Airways -0.422291\n",
            "8                     Sabado -0.370115\n",
            "7                  Miercoles -0.334808\n",
            "6                     Martes -0.333274\n",
            "37      12horas_antes_minmax -0.321578\n",
            "5                      Lunes -0.235157\n",
            "3                    Domingo -0.204910\n",
            "4                     Jueves -0.193354\n",
            "26                     Lacsa -0.184960\n",
            "42    12horas_despues_minmax -0.170492\n",
            "9                    Viernes -0.123918\n",
            "33                DIA_minmax -0.100994\n",
            "43    24horas_despues_minmax -0.076072\n",
            "0                   Vlo_diff -0.045975\n",
            "1             temporada_alta  0.052883\n",
            "40     3horas_despues_minmax  0.083435\n",
            "45       6horas_entre_minmax  0.107315\n",
            "46      12horas_entre_minmax  0.163378\n",
            "44       3horas_entre_minmax  0.173865\n",
            "16                   Austral  0.216312\n",
            "10     Aerolineas Argentinas  0.272426\n",
            "39       3horas_antes_minmax  0.275217\n",
            "22               Grupo LATAM  0.379780\n",
            "24              JetSmart SPA  0.407303\n",
            "31               Sky Airline  0.496334\n",
            "34                MES_minmax  0.511792\n",
            "35          VUELOSDIA_minmax  0.645033\n",
            "17                   Avianca  0.760890\n",
            "38       6horas_antes_minmax  0.972619\n",
            "21                 Gol Trans  1.081772\n",
            "12                Air Canada  1.188297\n",
            "27      Latin American Wings  1.461737\n",
            "29  Plus Ultra Lineas Aereas  1.578945\n",
            "36      24horas_antes_minmax  1.761947\n",
            "30            Qantas Airways  1.789151\n"
          ]
        }
      ]
    },
    {
      "cell_type": "markdown",
      "source": [
        "\n",
        "Es posible que las variables mes, día de la semana y cantidad de vuelos en las últimas 24 y 6 horas afecten el atraso de un avión por varias razones.\n",
        "\n",
        "En primer lugar, el mes puede afectar el atraso de un avión ya que algunos meses pueden ser más propensos a condiciones meteorológicas desfavorables que causen retrasos. Por ejemplo, un mes con una alta probabilidad de nevadas o tormentas de granizo puede causar retrasos en los vuelos debido a las condiciones de vuelo peligrosas.\n",
        "\n",
        "En segundo lugar, el día de la semana puede afectar el atraso de un avión ya que algunos días de la semana pueden tener mayor tráfico aéreo que otros. Por ejemplo, si un avión se retrasa en un día de alta demanda, puede ser más difícil encontrar un lugar en un horario de salida posterior, lo que puede causar un mayor atraso en el vuelo.\n",
        "\n",
        "Por último, la cantidad de vuelos en las últimas 3 horas puede afectar el atraso de un avión ya que si hay una alta cantidad de vuelos en un corto período de tiempo, puede haber una mayor congestión en el espacio aéreo y en las pistas de aterrizaje. Esto puede causar retrasos en los vuelos debido a la falta de espacio para despegar y aterrizar de manera eficiente.\n",
        "\n",
        "En resumen, el mes, el día de la semana y la cantidad de vuelos en las últimas 3 horas pueden afectar el atraso de un avión ya que pueden afectar las condiciones meteorológicas, el tráfico aéreo y la congestión en el espacio aéreo.\n",
        "\n"
      ],
      "metadata": {
        "id": "zOQA9w79NNue"
      }
    },
    {
      "cell_type": "markdown",
      "source": [
        "Dado los registros y el anteior estudio, el peso de que un vuelo se atrase o no  depende mucho de los vuelos que se realizan en cada empresa de vuelo. Por lo que se pueden hacer los siguientes **casos de mejoras:**\n",
        "\n",
        " - La propuesta es contar los vuelos anteriores a un vuelo dado de una determinada empresa. Por ejemplo, repetir la misma función anterior, pero antes filtrar por empresa:\n",
        "\n",
        "\n",
        "\n",
        "```python\n",
        "def vuelos_cercanos(row, horas):\n",
        "    hora_antes, hora_despues =horas\n",
        "    dataset_tmp = dataset_new[row[\"OPERA\"]]\n",
        "    return len(dataset_tmp[ (dataset_tmp['Fecha-I'] >= row['Fecha-I'] - pd.DateOffset(hours=hora_antes)) &\n",
        "                            (dataset_tmp['Fecha-I'] <= row['Fecha-I'] + pd.DateOffset(hours=hora_despues)) ] )\n",
        "```\n",
        "Esta función recuperaría el número de vuelos de la empresa dada que ocurrieron antes de la fecha del vuelo especificado. Ya que se puede producir que un atraso puede ser más afectados por culpa de organización de una empresa misma.\n",
        "\n",
        " - Otras mejoras seria enfocarnos en la mejora de hiperparametros ejemplo podemos usar Pycaret, para la seleccion de parametros y tener un mejor resultado. Sólo cambiando hiperparametros se puede mejorar bastante y la libreria Pycaret te facilita ese trabajo.\n",
        "\n",
        " - Además de buscar otros modelos de aprendizaje, podriamos entrenar con deep learning, con una red simple, podemos llegar e buenos resultados pero perdemos el enfoque de analizar las columnas que más afectan al modelo."
      ],
      "metadata": {
        "id": "YGmZkG1bQvAe"
      }
    }
  ]
}